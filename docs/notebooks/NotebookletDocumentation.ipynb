{
 "cells": [
  {
   "cell_type": "code",
   "execution_count": 1,
   "metadata": {},
   "outputs": [
    {
     "name": "stdout",
     "output_type": "stream",
     "text": [
      "Notebooklets: 9 notebooklets loaded.\n",
      "E:\\src\\msticnb\\tests\\testdata\\msticpyconfig-test.yaml is not a valid query definition file - skipping.\n",
      "E:\\src\\msticnb\\tests\\testdata\\custom_nb\\host\\host_test_nb.yaml is not a valid query definition file - skipping.\n"
     ]
    },
    {
     "data": {
      "text/html": [
       "\n",
       "This product includes GeoLite2 data created by MaxMind, available from\n",
       "<a href=\"https://www.maxmind.com\">https://www.maxmind.com</a>.\n"
      ],
      "text/plain": [
       "<IPython.core.display.HTML object>"
      ]
     },
     "metadata": {},
     "output_type": "display_data"
    },
    {
     "name": "stdout",
     "output_type": "stream",
     "text": [
      "Notebooklets: Loaded providers: LocalData, geolitelookup\n",
      "Using Open PageRank. See https://www.domcop.com/openpagerank/what-is-openpagerank\n"
     ]
    },
    {
     "data": {
      "text/html": [
       "\n",
       "This library uses services provided by ipstack.\n",
       "<a href=\"https://ipstack.com\">https://ipstack.com</a>"
      ],
      "text/plain": [
       "<IPython.core.display.HTML object>"
      ]
     },
     "metadata": {},
     "output_type": "display_data"
    },
    {
     "name": "stdout",
     "output_type": "stream",
     "text": [
      "Using Open PageRank. See https://www.domcop.com/openpagerank/what-is-openpagerank\n"
     ]
    }
   ],
   "source": [
    "import msticnb as nb\n",
    "nb.init(\n",
    "    \"LocalData\", providers=[\"-tilookup\"],\n",
    "    LocalData_data_paths=[\"/src/msticnb/tests/testdata\"],\n",
    "    LocalData_query_paths=[\"/src/msticnb/tests/testdata\"],\n",
    ")"
   ]
  },
  {
   "cell_type": "code",
   "execution_count": 4,
   "metadata": {},
   "outputs": [
    {
     "name": "stdout",
     "output_type": "stream",
     "text": [
      "Creating docs for AccountSummary\n",
      "Creating docs for EnrichAlerts\n",
      "Creating docs for HostLogonsSummary\n",
      "Creating docs for HostSummary\n",
      "Creating docs for LogonSessionsRarity\n",
      "Creating docs for WinHostEvents\n",
      "Creating docs for IpAddressSummary\n",
      "Creating docs for NetworkFlowSummary\n",
      "Creating docs for TemplateNB\n"
     ]
    }
   ],
   "source": [
    "from IPython.display import HTML\n",
    "import inspect\n",
    "import subprocess\n",
    "from pathlib import Path\n",
    "\n",
    "html_tmplt = \"\"\"\n",
    "<!DOCTYPE html>\n",
    "<html class=\"writer-html5\" lang=\"en\" >\n",
    "<body>\n",
    "{cls_help}\n",
    "</body>\n",
    "</head>\n",
    "\"\"\"\n",
    "\n",
    "def get_html_doc(cls):\n",
    "    html_doc = html_tmplt.format(cls_help=cls.get_help())\n",
    "\n",
    "    html_doc = html_doc.replace(\"<h1>\", \"<hdr1>\", 1).replace(\"</h1>\", \"</hdr1>\", 1)\n",
    "    for h_num in range(4, 0, -1):\n",
    "        html_doc = html_doc.replace(f\"<h{h_num}>\", f\"<h{h_num + 1}>\")\n",
    "        html_doc = html_doc.replace(f\"</h{h_num}>\", f\"</h{h_num + 1}>\")\n",
    "\n",
    "    html_doc = html_doc.replace(\"<hdr1>\", \"<h1>\").replace(\"</hdr1>\", \"</h1>\")\n",
    "    html_doc = html_doc.replace(\"`\", \"``\", 1)\n",
    "    return html_doc\n",
    "\n",
    "\n",
    "def txt_to_rst(line):\n",
    "    if line.startswith(\"----\"):\n",
    "        return \"~\" * len(line.strip()) + \"\\n\"\n",
    "    if not line.strip():\n",
    "        return \"\"\n",
    "    if line.startswith(\"    \"):\n",
    "        return line\n",
    "    if not line.startswith(\"-\"):\n",
    "        return f\"\\n{line}\"\n",
    "    return line\n",
    "        \n",
    "\n",
    "def get_run_doc(cls):\n",
    "    run_doc = [\n",
    "        \"\",\n",
    "        \"------------\",\n",
    "        \"\",\n",
    "        \"Run function documentation\",\n",
    "        \"------------------------------\",\n",
    "        *(txt_to_rst(l) for l in inspect.getdoc(cls().run).split(\"\\n\"))\n",
    "    ]\n",
    "    return \"\\n\".join(run_doc)\n",
    "\n",
    "\n",
    "def write_doc_file(cls, folder=\".\"):\n",
    "    class_name = cls.__name__\n",
    "    html_doc = get_html_doc(cls)\n",
    "    run_doc_rst = get_run_doc(cls)\n",
    "\n",
    "    Path(\"temp_doc.html\").write_text(html_doc)\n",
    "\n",
    "    args = [\"pandoc\", \"-f\", \"html\", \"-t\", \"RST\",  \"-o\", f\"temp_doc.rst\", \"temp_doc.html\"]\n",
    "    subprocess.run(args)\n",
    "    Path(\"temp_doc.html\").unlink()\n",
    "    \n",
    "    rst_contents = Path(f\"temp_doc.rst\").read_text()\n",
    "    Path(f\"temp_doc.rst\").unlink()\n",
    "    rst_contents = rst_contents + run_doc_rst\n",
    "    Path(folder).joinpath(f\"{class_name}.rst\").write_text(rst_contents)\n",
    "            \n",
    "\n",
    "for desc, cls in nb.nblts.iter_classes():\n",
    "    print(f\"Creating docs for {cls.__name__}\")\n",
    "    write_doc_file(cls, \"../source/notebooklet_docs\")"
   ]
  },
  {
   "cell_type": "code",
   "execution_count": 109,
   "metadata": {},
   "outputs": [
    {
     "data": {
      "text/plain": [
       "WindowsPath('foo.rst')"
      ]
     },
     "execution_count": 109,
     "metadata": {},
     "output_type": "execute_result"
    }
   ],
   "source": [
    "Path(\".\").joinpath(f\"foo.rst\")"
   ]
  },
  {
   "cell_type": "code",
   "execution_count": 53,
   "metadata": {},
   "outputs": [
    {
     "data": {
      "text/plain": [
       "['<h1>Notebooklet Class - TemplateNB</h1>\\n',\n",
       " '<p>Template Notebooklet class.</p>\\n',\n",
       " '<p>Detailed description of things this notebooklet does:</p>\\n',\n",
       " '<ul>\\n',\n",
       " '<li>\\n',\n",
       " '<p>Fetches all events from XYZ</p>\\n',\n",
       " '</li>\\n',\n",
       " '<li>\\n',\n",
       " '<p>Plots interesting stuff</p>\\n',\n",
       " '</li>\\n',\n",
       " '<li>\\n',\n",
       " '<p>Returns extended metadata about the thing</p>\\n',\n",
       " '</li>\\n',\n",
       " '</ul>\\n',\n",
       " '<p>Document the options that the Notebooklet takes, if any,</p>\\n',\n",
       " '<p>Use these control which parts of the notebooklet get run.</p>\\n',\n",
       " '<p><strong>Default Options\\n',\n",
       " '</strong></p>\\n',\n",
       " '<ul>\\n',\n",
       " '<li>\\n',\n",
       " '<p>all_events: Gets all events about blah</p>\\n',\n",
       " '</li>\\n',\n",
       " '<li>\\n',\n",
       " '<p>plot_events: Display and summary and timeline of events.</p>\\n',\n",
       " '</li>\\n',\n",
       " '</ul>\\n',\n",
       " '<p><strong>Other Options\\n',\n",
       " '</strong></p>\\n',\n",
       " '<ul>\\n',\n",
       " '<li>get_metadata: fetches additional metadata about the entity</li>\\n',\n",
       " '</ul>\\n',\n",
       " '<hr />\\n',\n",
       " '<h1>Display Sections</h1>\\n',\n",
       " '<h2>Title for the run method (main title)</h2>\\n',\n",
       " '<p>Write your introductory text here\\n',\n",
       " 'Data and plots are stored in the result class returned by this function.\\n',\n",
       " 'If you use <strong>markdown</strong> syntax in this block add the following to use markdown processing.</p>\\n',\n",
       " '<h3>Display the timeline.</h3>\\n',\n",
       " '<p>This may take some time to complete for large numbers of events.\\n',\n",
       " 'It will do: - Item one - Item two\\n',\n",
       " 'Since some groups will be undefined these can show up as <code>NaN</code>.\\n',\n",
       " 'Note: use a quoted string if you want to include yaml reserved chars such as \":\" </p>\\n',\n",
       " '<h4>Do something else</h4>\\n',\n",
       " '<p>This may take some time to complete for large numbers of events.</p>\\n',\n",
       " '<p>It will do:\\n',\n",
       " '- Item one\\n',\n",
       " '- Item two</p>\\n',\n",
       " '<hr />\\n',\n",
       " '<h1>Results Class</h1>\\n',\n",
       " '<h2>TemplateResult</h2>\\n',\n",
       " '<p>Template Results.</p>\\n',\n",
       " '<h2>Attributes</h2>\\n',\n",
       " '<ul>\\n',\n",
       " '<li>\\n',\n",
       " '<p>all_events : pd.DataFrame<br>\\n',\n",
       " 'DataFrame of all raw events retrieved.</p>\\n',\n",
       " '</li>\\n',\n",
       " '<li>\\n',\n",
       " '<p>plot : bokeh.models.LayoutDOM<br>\\n',\n",
       " 'Bokeh plot figure showing the account events on an\\n',\n",
       " 'interactive timeline.</p>\\n',\n",
       " '</li>\\n',\n",
       " '<li>\\n',\n",
       " '<p>additional_info: dict<br>\\n',\n",
       " 'Additional information for my notebooklet.</p>\\n',\n",
       " '</li>\\n',\n",
       " '</ul>\\n',\n",
       " '<hr />\\n',\n",
       " '<h1>Methods</h1>\\n',\n",
       " '<h2>Instance Methods</h2>\\n',\n",
       " '<h3>__init__</h3>\\n',\n",
       " '<p>__init__(self, data_providers: Union[&lt;msticnb.data_providers.SingletonDecorator object at 0x0000016FC90B2F88&gt;, NoneType] = None, **kwargs)<br>\\n',\n",
       " 'Intialize a new instance of the notebooklet class.</p>\\n',\n",
       " '<h3>run</h3>\\n',\n",
       " '<p>run(self, value: Any = None, data: Union[pandas.core.frame.DataFrame, NoneType] = None, timespan: Union[msticpy.common.timespan.TimeSpan, NoneType] = None, options: Union[Iterable[str], NoneType] = None, **kwargs) -&gt; msticnb.nb.template.nb_template.TemplateResult<br>\\n',\n",
       " 'Return XYZ summary.</p>\\n',\n",
       " '<h3>run_additional_operation</h3>\\n',\n",
       " '<p>run_additional_operation(self, event_ids: Union[int, Iterable[int], NoneType] = None) -&gt; pandas.core.frame.DataFrame<br>\\n',\n",
       " 'Addition method.</p>\\n',\n",
       " '<h2>Inherited methods</h2>\\n',\n",
       " '<h3>check_table_exists</h3>\\n',\n",
       " '<p>check_table_exists(self, table: str) -&gt; bool<br>\\n',\n",
       " 'Check to see if the table exists in the provider.</p>\\n',\n",
       " '<h3>check_valid_result_data</h3>\\n',\n",
       " '<p>check_valid_result_data(self, attrib: str = None, silent: bool = False) -&gt; bool<br>\\n',\n",
       " 'Check that the result is valid and <code>attrib</code> contains data.</p>\\n',\n",
       " '<h3>get_methods</h3>\\n',\n",
       " '<p>get_methods(self) -&gt; Dict[str, Callable[[Any], Any]]<br>\\n',\n",
       " 'Return methods available for this class.</p>\\n',\n",
       " '<h3>get_pivot_run</h3>\\n',\n",
       " '<p>get_pivot_run(self, get_timespan: Callable[[], msticpy.common.timespan.TimeSpan])<br>\\n',\n",
       " 'Return Pivot-wrappable run function.</p>\\n',\n",
       " '<h3>get_provider</h3>\\n',\n",
       " '<p>get_provider(self, provider_name: str)<br>\\n',\n",
       " 'Return data provider for the specified name.</p>\\n',\n",
       " '<h3>list_methods</h3>\\n',\n",
       " '<p>list_methods(self) -&gt; List[str]<br>\\n',\n",
       " 'Return list of methods with descriptions.</p>\\n',\n",
       " '<h2>Other Methods</h2>\\n',\n",
       " '<h3>all_options</h3>\\n',\n",
       " '<p>all_options() -&gt; List[str]<br>\\n',\n",
       " 'Return supported options for Notebooklet run function.</p>\\n',\n",
       " '<h3>default_options</h3>\\n',\n",
       " '<p>default_options() -&gt; List[str]<br>\\n',\n",
       " 'Return default options for Notebooklet run function.</p>\\n',\n",
       " '<h3>description</h3>\\n',\n",
       " '<p>description() -&gt; str<br>\\n',\n",
       " 'Return description of the Notebooklet.</p>\\n',\n",
       " '<h3>entity_types</h3>\\n',\n",
       " '<p>entity_types() -&gt; List[str]<br>\\n',\n",
       " 'Entity types supported by the notebooklet.</p>\\n',\n",
       " '<h3>get_help</h3>\\n',\n",
       " '<p>get_help(fmt=&#x27;html&#x27;) -&gt; str<br>\\n',\n",
       " 'Return HTML document for class.</p>\\n',\n",
       " '<h3>get_settings</h3>\\n',\n",
       " '<p>get_settings(print_settings=True) -&gt; Union[str, NoneType]<br>\\n',\n",
       " 'Print or return metadata for class.</p>\\n',\n",
       " '<h3>import_cell</h3>\\n',\n",
       " '<p>import_cell()<br>\\n',\n",
       " 'Import the text of this module into a new cell.</p>\\n',\n",
       " '<h3>keywords</h3>\\n',\n",
       " '<p>keywords() -&gt; List[str]<br>\\n',\n",
       " 'Return search keywords for Notebooklet.</p>\\n',\n",
       " '<h3>list_options</h3>\\n',\n",
       " '<p>list_options() -&gt; str<br>\\n',\n",
       " 'Return options document for Notebooklet run function.</p>\\n',\n",
       " '<h3>match_terms</h3>\\n',\n",
       " '<p>match_terms(search_terms: str) -&gt; Tuple[bool, int]<br>\\n',\n",
       " 'Search class definition for <code>search_terms</code>.</p>\\n',\n",
       " '<h3>name</h3>\\n',\n",
       " '<p>name() -&gt; str<br>\\n',\n",
       " 'Return name of the Notebooklet.</p>\\n',\n",
       " '<h3>print_options</h3>\\n',\n",
       " '<p>print_options()<br>\\n',\n",
       " 'Print options for Notebooklet run function.</p>\\n',\n",
       " '<h3>result</h3>\\n',\n",
       " '<p>result [property]\\n',\n",
       " 'Return result of the most recent notebooklet run.</p>\\n',\n",
       " '<h3>show_help</h3>\\n',\n",
       " '<p>show_help()<br>\\n',\n",
       " 'Display Documentation for class.</p>\\n',\n",
       " '<h3>silent</h3>\\n',\n",
       " '<p>silent [property]\\n',\n",
       " 'Get the current instance setting for silent running.</p>\\n']"
      ]
     },
     "execution_count": 53,
     "metadata": {},
     "output_type": "execute_result"
    }
   ],
   "source": [
    "[f\"{line}\\n\" for line in cls.get_help().split(\"\\n\")]"
   ]
  }
 ],
 "metadata": {
  "interpreter": {
   "hash": "2bc37074a50de3994d4ebdf9197e864a43c9c15c9793b7f9f3363bcff9457253"
  },
  "kernelspec": {
   "display_name": "Python (condadev)",
   "language": "python",
   "name": "python3"
  },
  "language_info": {
   "codemirror_mode": {
    "name": "ipython",
    "version": 3
   },
   "file_extension": ".py",
   "mimetype": "text/x-python",
   "name": "python",
   "nbconvert_exporter": "python",
   "pygments_lexer": "ipython3",
   "version": "3.9.7"
  },
  "widgets": {
   "application/vnd.jupyter.widget-state+json": {
    "state": {
     "086fa1ea70004b62832ff7ac92f4fd4d": {
      "model_module": "@jupyter-widgets/base",
      "model_module_version": "1.2.0",
      "model_name": "LayoutModel",
      "state": {}
     },
     "0f6d83208b6a4c3c986cd631071f0bb3": {
      "model_module": "@jupyter-widgets/controls",
      "model_module_version": "1.5.0",
      "model_name": "IntRangeSliderModel",
      "state": {
       "_model_name": "IntRangeSliderModel",
       "_view_name": "IntRangeSliderView",
       "description": "Time Range",
       "layout": "IPY_MODEL_730f50b0ac7c47049a48a284f3ebd18e",
       "max": 4,
       "min": -4,
       "style": "IPY_MODEL_c421dd5cb28e47ddaa7d7b1356e7b39a",
       "value": [
        -1,
        0
       ]
      }
     },
     "16e155c5c9494ef58e71ace3b23cd5d8": {
      "model_module": "@jupyter-widgets/controls",
      "model_module_version": "1.5.0",
      "model_name": "HTMLModel",
      "state": {
       "layout": "IPY_MODEL_c27f5bff633e45b5befd316d601921b9",
       "style": "IPY_MODEL_78eb515d2c57430d9655edb34ff2c8b4",
       "value": "<h4>Set time range for pivot functions.</h4>"
      }
     },
     "32569487e73e490ba935f45b7ad12111": {
      "model_module": "@jupyter-widgets/base",
      "model_module_version": "1.2.0",
      "model_name": "LayoutModel",
      "state": {}
     },
     "418db54fee724134a8efea5b4b339110": {
      "model_module": "@jupyter-widgets/controls",
      "model_module_version": "1.5.0",
      "model_name": "TextModel",
      "state": {
       "description": "Query end time (UTC) :  ",
       "layout": "IPY_MODEL_b1216cc150ca4e75a0f576b0960227bb",
       "style": "IPY_MODEL_e46b36920e214c4c80863613ac4b4a28",
       "value": "2021-04-30 02:00:04.213446"
      }
     },
     "49a7c321a9394ea69d17f02b4600997c": {
      "model_module": "@jupyter-widgets/controls",
      "model_module_version": "1.5.0",
      "model_name": "DropdownModel",
      "state": {
       "_options_labels": [
        "minute",
        "hour",
        "day",
        "week"
       ],
       "index": 2,
       "layout": "IPY_MODEL_a670f6af5f6a490ea8c02da6f810f78e",
       "style": "IPY_MODEL_bcf449aad24e4f309607bf61080db3ef"
      }
     },
     "4d0fdc73455d4747ae25012d4e3b9420": {
      "model_module": "@jupyter-widgets/controls",
      "model_module_version": "1.5.0",
      "model_name": "TextModel",
      "state": {
       "description": "Query start time (UTC):",
       "layout": "IPY_MODEL_fb134491ce774f148873d20e2e744b27",
       "style": "IPY_MODEL_b4e9f8ae10e446f69a63559a9652c7a8",
       "value": "2021-04-29 02:00:04.213446"
      }
     },
     "62702feadf154aa79d9bf6b6f1445444": {
      "model_module": "@jupyter-widgets/base",
      "model_module_version": "1.2.0",
      "model_name": "LayoutModel",
      "state": {
       "width": "95%"
      }
     },
     "68f63e52a393461bab5a46dd2ab5e07f": {
      "model_module": "@jupyter-widgets/controls",
      "model_module_version": "1.5.0",
      "model_name": "VBoxModel",
      "state": {
       "children": [
        "IPY_MODEL_16e155c5c9494ef58e71ace3b23cd5d8",
        "IPY_MODEL_d7719dabe44b4cf583ad4fd6bd7b5b57",
        "IPY_MODEL_a50047475914407a82938ac658224f70"
       ],
       "layout": "IPY_MODEL_c0a10d855f2d4116bb1f54bd9d71da40"
      }
     },
     "730f50b0ac7c47049a48a284f3ebd18e": {
      "model_module": "@jupyter-widgets/base",
      "model_module_version": "1.2.0",
      "model_name": "LayoutModel",
      "state": {
       "width": "70%"
      }
     },
     "78eb515d2c57430d9655edb34ff2c8b4": {
      "model_module": "@jupyter-widgets/controls",
      "model_module_version": "1.5.0",
      "model_name": "DescriptionStyleModel",
      "state": {
       "description_width": ""
      }
     },
     "7acc0bb50cd4482b8b97aaa7a8bedf15": {
      "model_module": "@jupyter-widgets/base",
      "model_module_version": "1.2.0",
      "model_name": "LayoutModel",
      "state": {}
     },
     "a50047475914407a82938ac658224f70": {
      "model_module": "@jupyter-widgets/controls",
      "model_module_version": "1.5.0",
      "model_name": "VBoxModel",
      "state": {
       "children": [
        "IPY_MODEL_e38e55b517194d228eb4f85610a02ac1",
        "IPY_MODEL_4d0fdc73455d4747ae25012d4e3b9420",
        "IPY_MODEL_418db54fee724134a8efea5b4b339110"
       ],
       "layout": "IPY_MODEL_086fa1ea70004b62832ff7ac92f4fd4d"
      }
     },
     "a5c9e08437fc43a2b029e268e7e2a803": {
      "model_module": "@jupyter-widgets/controls",
      "model_module_version": "1.5.0",
      "model_name": "DescriptionStyleModel",
      "state": {
       "description_width": ""
      }
     },
     "a670f6af5f6a490ea8c02da6f810f78e": {
      "model_module": "@jupyter-widgets/base",
      "model_module_version": "1.2.0",
      "model_name": "LayoutModel",
      "state": {
       "width": "100px"
      }
     },
     "ad3b2af5a7e04976829a5097fac1a652": {
      "model_module": "@jupyter-widgets/base",
      "model_module_version": "1.2.0",
      "model_name": "LayoutModel",
      "state": {}
     },
     "b1216cc150ca4e75a0f576b0960227bb": {
      "model_module": "@jupyter-widgets/base",
      "model_module_version": "1.2.0",
      "model_name": "LayoutModel",
      "state": {
       "width": "50%"
      }
     },
     "b4e9f8ae10e446f69a63559a9652c7a8": {
      "model_module": "@jupyter-widgets/controls",
      "model_module_version": "1.5.0",
      "model_name": "DescriptionStyleModel",
      "state": {
       "description_width": "initial"
      }
     },
     "bcf449aad24e4f309607bf61080db3ef": {
      "model_module": "@jupyter-widgets/controls",
      "model_module_version": "1.5.0",
      "model_name": "DescriptionStyleModel",
      "state": {
       "description_width": ""
      }
     },
     "c0a10d855f2d4116bb1f54bd9d71da40": {
      "model_module": "@jupyter-widgets/base",
      "model_module_version": "1.2.0",
      "model_name": "LayoutModel",
      "state": {}
     },
     "c27f5bff633e45b5befd316d601921b9": {
      "model_module": "@jupyter-widgets/base",
      "model_module_version": "1.2.0",
      "model_name": "LayoutModel",
      "state": {}
     },
     "c421dd5cb28e47ddaa7d7b1356e7b39a": {
      "model_module": "@jupyter-widgets/controls",
      "model_module_version": "1.5.0",
      "model_name": "SliderStyleModel",
      "state": {
       "description_width": "initial"
      }
     },
     "cee26b9e0e584315b53fa1f383dd541b": {
      "model_module": "@jupyter-widgets/controls",
      "model_module_version": "1.5.0",
      "model_name": "DatePickerModel",
      "state": {
       "description": "Origin Date",
       "disabled": false,
       "layout": "IPY_MODEL_fdb484e0658d4e22ac609998b1789120",
       "style": "IPY_MODEL_faaaa39142954f2d8b49136329c2536c",
       "value": {
        "date": 30,
        "month": 3,
        "year": 2021
       }
      }
     },
     "d7719dabe44b4cf583ad4fd6bd7b5b57": {
      "model_module": "@jupyter-widgets/controls",
      "model_module_version": "1.5.0",
      "model_name": "HBoxModel",
      "state": {
       "children": [
        "IPY_MODEL_cee26b9e0e584315b53fa1f383dd541b",
        "IPY_MODEL_eba04e25fd0f4aaaba63080d9d344c67"
       ],
       "layout": "IPY_MODEL_32569487e73e490ba935f45b7ad12111"
      }
     },
     "e38e55b517194d228eb4f85610a02ac1": {
      "model_module": "@jupyter-widgets/controls",
      "model_module_version": "1.5.0",
      "model_name": "HBoxModel",
      "state": {
       "children": [
        "IPY_MODEL_0f6d83208b6a4c3c986cd631071f0bb3",
        "IPY_MODEL_49a7c321a9394ea69d17f02b4600997c"
       ],
       "layout": "IPY_MODEL_ad3b2af5a7e04976829a5097fac1a652"
      }
     },
     "e46b36920e214c4c80863613ac4b4a28": {
      "model_module": "@jupyter-widgets/controls",
      "model_module_version": "1.5.0",
      "model_name": "DescriptionStyleModel",
      "state": {
       "description_width": "initial"
      }
     },
     "eba04e25fd0f4aaaba63080d9d344c67": {
      "model_module": "@jupyter-widgets/controls",
      "model_module_version": "1.5.0",
      "model_name": "TextModel",
      "state": {
       "description": "Time (24hr)",
       "layout": "IPY_MODEL_7acc0bb50cd4482b8b97aaa7a8bedf15",
       "style": "IPY_MODEL_a5c9e08437fc43a2b029e268e7e2a803",
       "value": "02:00:04.213446"
      }
     },
     "faaaa39142954f2d8b49136329c2536c": {
      "model_module": "@jupyter-widgets/controls",
      "model_module_version": "1.5.0",
      "model_name": "DescriptionStyleModel",
      "state": {
       "description_width": ""
      }
     },
     "fb134491ce774f148873d20e2e744b27": {
      "model_module": "@jupyter-widgets/base",
      "model_module_version": "1.2.0",
      "model_name": "LayoutModel",
      "state": {
       "width": "50%"
      }
     },
     "fdb484e0658d4e22ac609998b1789120": {
      "model_module": "@jupyter-widgets/base",
      "model_module_version": "1.2.0",
      "model_name": "LayoutModel",
      "state": {}
     }
    },
    "version_major": 2,
    "version_minor": 0
   }
  }
 },
 "nbformat": 4,
 "nbformat_minor": 4
}
