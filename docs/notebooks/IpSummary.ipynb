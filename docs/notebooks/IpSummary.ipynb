{
 "cells": [
  {
   "cell_type": "markdown",
   "metadata": {},
   "source": [
    "# IP Summary"
   ]
  },
  {
   "cell_type": "code",
   "execution_count": 1,
   "metadata": {
    "ExecuteTime": {
     "end_time": "2020-02-28T21:13:24.369073Z",
     "start_time": "2020-02-28T21:13:24.260137Z"
    }
   },
   "outputs": [
    {
     "data": {
      "text/html": [
       "<hr><h4>Starting Notebook initialization...</h4> <br>"
      ],
      "text/plain": [
       "<IPython.core.display.HTML object>"
      ]
     },
     "metadata": {},
     "output_type": "display_data"
    },
    {
     "data": {
      "text/html": [
       "msticpy version installed: 1.8.0 latest published: 1.8.0<br>Latest version is installed.<br> <br>"
      ],
      "text/plain": [
       "<IPython.core.display.HTML object>"
      ]
     },
     "metadata": {},
     "output_type": "display_data"
    },
    {
     "data": {
      "text/html": [
       "Processing imports.... <br>"
      ],
      "text/plain": [
       "<IPython.core.display.HTML object>"
      ]
     },
     "metadata": {},
     "output_type": "display_data"
    },
    {
     "data": {
      "text/html": [
       "Imported: pd (pandas), IPython.get_ipython, IPython.display.display, IPython.display.HTML, IPython.display.Markdown, widgets (ipywidgets), pathlib.Path, plt (matplotlib.pyplot), matplotlib.MatplotlibDeprecationWarning, np (numpy), sns (seaborn), msticpy, msticpy.data.QueryProvider, msticpy.nbtools.foliummap.FoliumMap, msticpy.common.utility.md, msticpy.common.utility.md_warn, msticpy.common.wsconfig.WorkspaceConfig, msticpy.datamodel.pivot.Pivot, msticpy.datamodel.entities, msticpy.nbtools.nbmagics, msticpy.vis.mp_pandas_plot <br>"
      ],
      "text/plain": [
       "<IPython.core.display.HTML object>"
      ]
     },
     "metadata": {},
     "output_type": "display_data"
    },
    {
     "data": {
      "text/html": [
       "Checking configuration.... <br>"
      ],
      "text/plain": [
       "<IPython.core.display.HTML object>"
      ]
     },
     "metadata": {},
     "output_type": "display_data"
    },
    {
     "data": {
      "text/html": [
       "Azure CLI credentials not detected. (see <a href='https://github.com/Azure/Azure-Sentinel-Notebooks/wiki/Caching-credentials-with-Azure-CLI'>Caching credentials with Azure CLI</>) <br>"
      ],
      "text/plain": [
       "<IPython.core.display.HTML object>"
      ]
     },
     "metadata": {},
     "output_type": "display_data"
    },
    {
     "data": {
      "text/html": [
       "Setting notebook options.... <br>"
      ],
      "text/plain": [
       "<IPython.core.display.HTML object>"
      ]
     },
     "metadata": {},
     "output_type": "display_data"
    },
    {
     "data": {
      "text/html": [
       "\n",
       "This product includes GeoLite2 data created by MaxMind, available from\n",
       "<a href=\"https://www.maxmind.com\">https://www.maxmind.com</a>.\n"
      ],
      "text/plain": [
       "<IPython.core.display.HTML object>"
      ]
     },
     "metadata": {},
     "output_type": "display_data"
    },
    {
     "data": {
      "text/html": [
       "\n",
       "This library uses services provided by ipstack.\n",
       "<a href=\"https://ipstack.com\">https://ipstack.com</a>"
      ],
      "text/plain": [
       "<IPython.core.display.HTML object>"
      ]
     },
     "metadata": {},
     "output_type": "display_data"
    },
    {
     "data": {
      "text/html": [
       "Using Open PageRank. See https://www.domcop.com/openpagerank/what-is-openpagerank<br> <br>"
      ],
      "text/plain": [
       "<IPython.core.display.HTML object>"
      ]
     },
     "metadata": {},
     "output_type": "display_data"
    },
    {
     "data": {
      "text/html": [
       " <br>"
      ],
      "text/plain": [
       "<IPython.core.display.HTML object>"
      ]
     },
     "metadata": {},
     "output_type": "display_data"
    },
    {
     "data": {
      "text/html": [
       "<h4>Notebook initialization complete</h4> <br>"
      ],
      "text/plain": [
       "<IPython.core.display.HTML object>"
      ]
     },
     "metadata": {},
     "output_type": "display_data"
    }
   ],
   "source": [
    "import sys\n",
    "import os\n",
    "from IPython.display import display, HTML, Markdown\n",
    "\n",
    "from msticpy.nbtools.nbinit import init_notebook\n",
    "init_notebook(namespace=globals());"
   ]
  },
  {
   "cell_type": "code",
   "execution_count": 2,
   "metadata": {},
   "outputs": [
    {
     "name": "stdout",
     "output_type": "stream",
     "text": [
      "Notebooklets: 9 notebooklets loaded.\n"
     ]
    }
   ],
   "source": [
    "import msticnb as nb"
   ]
  },
  {
   "cell_type": "code",
   "execution_count": 3,
   "metadata": {},
   "outputs": [
    {
     "name": "stdout",
     "output_type": "stream",
     "text": [
      "Please wait. Loading Kqlmagic extension...done\n",
      "Connecting... "
     ]
    },
    {
     "data": {
      "text/html": [
       "<!DOCTYPE html>\n",
       "            <html><body>\n",
       "            <div style=''>\n",
       "            <a href='http://127.0.0.1:3932/webbrowser?url=http%3A//127.0.0.1%3A3932/files/.kqlmagic/temp_files/a192836f-3cae-4ab3-9e92-42b29a15d78b/popup__8ecf8077-cf51-4820-aadd-14040956f35d_at_loganalytics_schema.html%3Fkernelid%3Da192836f-3cae-4ab3-9e92-42b29a15d78b&kernelid=a192836f-3cae-4ab3-9e92-42b29a15d78b' style='padding: 2px 6px 2px 6px; color: #333333; background-color: #EEEEEE; border-top: 1px solid #CCCCCC; border-right: 1px solid #333333; border-bottom: 1px solid #333333; border-left: 1px solid #CCCCCC' target='popup__8ecf8077-cf51-4820-aadd-14040956f35d_at_loganalytics_schema'>popup schema 8ecf8077-cf51-4820-aadd-14040956f35d@loganalytics</a>\n",
       "            </div>\n",
       "            </body></html>"
      ],
      "text/plain": [
       "<IPython.core.display.HTML object>"
      ]
     },
     "metadata": {},
     "output_type": "display_data"
    },
    {
     "name": "stdout",
     "output_type": "stream",
     "text": [
      "connected\n",
      "Using Open PageRank. See https://www.domcop.com/openpagerank/what-is-openpagerank\n",
      "Notebooklets: Loaded providers: AzureSentinel, geolitelookup, tilookup\n"
     ]
    }
   ],
   "source": [
    "nb.init(query_provider=\"MSSentinel\")"
   ]
  },
  {
   "cell_type": "code",
   "execution_count": 4,
   "metadata": {},
   "outputs": [
    {
     "data": {
      "application/vnd.jupyter.widget-view+json": {
       "model_id": "90690ba34d154718a9f277906294a614",
       "version_major": 2,
       "version_minor": 0
      },
      "text/plain": [
       "VBox(children=(HTML(value='<h4>Set query time boundaries</h4>'), HBox(children=(DatePicker(value=datetime.date…"
      ]
     },
     "metadata": {},
     "output_type": "display_data"
    }
   ],
   "source": [
    "qry_time = nbwidgets.QueryTime(units=\"day\")\n",
    "qry_time"
   ]
  },
  {
   "cell_type": "code",
   "execution_count": 5,
   "metadata": {},
   "outputs": [],
   "source": [
    "from msticnb.nb.azsent.network import ip_summary\n",
    "\n",
    "ip_cls = ip_summary.IpAddressSummary\n",
    "ip_summary = ip_cls()"
   ]
  },
  {
   "cell_type": "code",
   "execution_count": 6,
   "metadata": {},
   "outputs": [
    {
     "name": "stdout",
     "output_type": "stream",
     "text": [
      "Help on method run in module msticnb.nb.azsent.network.ip_summary:\n",
      "\n",
      "run(value: Any = None, data: Optional[pandas.core.frame.DataFrame] = None, timespan: Optional[msticpy.common.timespan.TimeSpan] = None, options: Optional[Iterable[str]] = None, **kwargs) -> msticnb.nb.azsent.network.ip_summary.IpSummaryResult method of msticnb.nb.azsent.network.ip_summary.IpAddressSummary instance\n",
      "    Return IP Address activity summary.\n",
      "    \n",
      "    Parameters\n",
      "    ----------\n",
      "    value : str\n",
      "        IP Address - The key for searches\n",
      "    data : Optional[pd.DataFrame], optional\n",
      "        Not supported for this notebooklet.\n",
      "    timespan : TimeSpan\n",
      "        Timespan for queries\n",
      "    options : Optional[Iterable[str]], optional\n",
      "        List of options to use, by default None.\n",
      "        A value of None means use default options.\n",
      "        Options prefixed with \"+\" will be added to the default options.\n",
      "        To see the list of available options type `help(cls)` where\n",
      "        \"cls\" is the notebooklet class or an instance of this class.\n",
      "    \n",
      "    Returns\n",
      "    -------\n",
      "    IpSummaryResult\n",
      "        Result object with attributes for each result type.\n",
      "    \n",
      "    Raises\n",
      "    ------\n",
      "    MsticnbMissingParameterError\n",
      "        If required parameters are missing\n",
      "    \n",
      "        \n",
      "    Default Options\n",
      "    ---------------\n",
      "    - geoip: Get geo location information for IP address.\n",
      "    - alerts: Get any alerts listing the IP address.\n",
      "    - host_logons: Find any hosts with logons using this IP address as a source.\n",
      "    - related_accounts: Find any accounts using this IP address in AAD or host logs.\n",
      "    - device_info: Find any devices associated with this IP address.\n",
      "    - device_network: Find any devices communicating with this IP address.\n",
      "    \n",
      "    Other Options\n",
      "    -------------\n",
      "    - bookmarks: Get any hunting bookmarks listing the IP address.\n",
      "    - heartbeat: Get the latest heartbeat record for for this IP address.\n",
      "    - az_net_if: Get the latest Azure network analytics interface data for this IP address.\n",
      "    - vmcomputer: Get the latest VMComputer record for this IP address.\n",
      "    - az_netflow: Get netflow information from AzureNetworkAnalytics table.\n",
      "    - passive_dns: Force fetching passive DNS data from a TI Provider even if IP is internal.\n",
      "    - az_activity: AAD sign-ins and Azure Activity logs.\n",
      "    - office_365: Office 365 activity.\n",
      "    - common_security: Get records from common security log.\n",
      "    - ti: Force get threat intelligence reports even for internal public IPs.\n",
      "\n"
     ]
    }
   ],
   "source": [
    "help(ip_summary.run)"
   ]
  },
  {
   "cell_type": "code",
   "execution_count": 7,
   "metadata": {},
   "outputs": [],
   "source": [
    "\n",
    "dest = \"10.240.1.135\"\n",
    "src = \"165.225.39.73\"\n",
    "src = \"185.99.3.60\"\n"
   ]
  },
  {
   "cell_type": "code",
   "execution_count": 8,
   "metadata": {},
   "outputs": [
    {
     "data": {
      "text/html": [
       "<h1>IP Address summary</h1>"
      ],
      "text/plain": [
       "<IPython.core.display.HTML object>"
      ]
     },
     "metadata": {},
     "output_type": "display_data"
    },
    {
     "data": {
      "text/html": [
       "Retrieving data for IP Address Data and plots are stored in the result class returned by this function."
      ],
      "text/plain": [
       "<IPython.core.display.HTML object>"
      ]
     },
     "metadata": {},
     "output_type": "display_data"
    },
    {
     "data": {
      "text/html": [
       "<p style=''>185.99.3.60, ip address type: Public</p>"
      ],
      "text/plain": [
       "<IPython.core.display.HTML object>"
      ]
     },
     "metadata": {},
     "output_type": "display_data"
    },
    {
     "data": {
      "text/html": [
       "<h2>Defender device information</h2>"
      ],
      "text/plain": [
       "<IPython.core.display.HTML object>"
      ]
     },
     "metadata": {},
     "output_type": "display_data"
    },
    {
     "data": {
      "text/html": [
       "MS Defender device network and host information."
      ],
      "text/plain": [
       "<IPython.core.display.HTML object>"
      ]
     },
     "metadata": {},
     "output_type": "display_data"
    },
    {
     "data": {
      "text/html": [
       "<p style=''>Getting data from DeviceInfo...</p>"
      ],
      "text/plain": [
       "<IPython.core.display.HTML object>"
      ]
     },
     "metadata": {},
     "output_type": "display_data"
    },
    {
     "data": {
      "text/html": [
       "<p style=''>No events from Defender Device info</p>"
      ],
      "text/plain": [
       "<IPython.core.display.HTML object>"
      ]
     },
     "metadata": {},
     "output_type": "display_data"
    },
    {
     "data": {
      "text/html": [
       "<h2>Azure Network Analytics Topology record for the IP</h2>"
      ],
      "text/plain": [
       "<IPython.core.display.HTML object>"
      ]
     },
     "metadata": {},
     "output_type": "display_data"
    },
    {
     "data": {
      "text/html": [
       "(only available for Azure VMs)"
      ],
      "text/plain": [
       "<IPython.core.display.HTML object>"
      ]
     },
     "metadata": {},
     "output_type": "display_data"
    },
    {
     "data": {
      "text/html": [
       "<p style=''>Getting data from Azure NSG topology...</p>"
      ],
      "text/plain": [
       "<IPython.core.display.HTML object>"
      ]
     },
     "metadata": {},
     "output_type": "display_data"
    },
    {
     "data": {
      "text/html": [
       "<p style=''>Could not get Azure NSG network interface record.</p>"
      ],
      "text/plain": [
       "<IPython.core.display.HTML object>"
      ]
     },
     "metadata": {},
     "output_type": "display_data"
    },
    {
     "data": {
      "text/html": [
       "<h2>Azure Sentinel heartbeat record for the IP</h2>"
      ],
      "text/plain": [
       "<IPython.core.display.HTML object>"
      ]
     },
     "metadata": {},
     "output_type": "display_data"
    },
    {
     "data": {
      "text/html": [
       "(only available for IP addresses that belong to the subscription)"
      ],
      "text/plain": [
       "<IPython.core.display.HTML object>"
      ]
     },
     "metadata": {},
     "output_type": "display_data"
    },
    {
     "data": {
      "text/html": [
       "<p style=''>Getting data from Heartbeat...</p>"
      ],
      "text/plain": [
       "<IPython.core.display.HTML object>"
      ]
     },
     "metadata": {},
     "output_type": "display_data"
    },
    {
     "data": {
      "text/html": [
       "<p style=''>Could not get Azure Heartbeat record.</p>"
      ],
      "text/plain": [
       "<IPython.core.display.HTML object>"
      ]
     },
     "metadata": {},
     "output_type": "display_data"
    },
    {
     "data": {
      "text/html": [
       "<h2>Azure VMComputer record for the IP.</h2>"
      ],
      "text/plain": [
       "<IPython.core.display.HTML object>"
      ]
     },
     "metadata": {},
     "output_type": "display_data"
    },
    {
     "data": {
      "text/html": [
       "(only available for Azure VMs)"
      ],
      "text/plain": [
       "<IPython.core.display.HTML object>"
      ]
     },
     "metadata": {},
     "output_type": "display_data"
    },
    {
     "data": {
      "text/html": [
       "<p style=''>Getting data from VMComputer...</p>"
      ],
      "text/plain": [
       "<IPython.core.display.HTML object>"
      ]
     },
     "metadata": {},
     "output_type": "display_data"
    },
    {
     "data": {
      "text/html": [
       "<p style=''>Could not get VMComputer record</p>"
      ],
      "text/plain": [
       "<IPython.core.display.HTML object>"
      ]
     },
     "metadata": {},
     "output_type": "display_data"
    },
    {
     "data": {
      "text/html": [
       "<h2>Azure Sentinel alerts related to the IP</h2>"
      ],
      "text/plain": [
       "<IPython.core.display.HTML object>"
      ]
     },
     "metadata": {},
     "output_type": "display_data"
    },
    {
     "data": {
      "text/html": [
       "Use `nblt.browse_alerts()` to retrieve a list of alerts."
      ],
      "text/plain": [
       "<IPython.core.display.HTML object>"
      ]
     },
     "metadata": {},
     "output_type": "display_data"
    },
    {
     "data": {
      "text/html": [
       "<p style=''>Getting data from RelatedAlerts...</p>"
      ],
      "text/plain": [
       "<IPython.core.display.HTML object>"
      ]
     },
     "metadata": {},
     "output_type": "display_data"
    },
    {
     "data": {
      "text/html": [
       "<p style=''>No events from related alerts found.</p>"
      ],
      "text/plain": [
       "<IPython.core.display.HTML object>"
      ]
     },
     "metadata": {},
     "output_type": "display_data"
    },
    {
     "data": {
      "text/html": [
       "<h2>Azure Sign-ins and audit activity from IP Address</h2>"
      ],
      "text/plain": [
       "<IPython.core.display.HTML object>"
      ]
     },
     "metadata": {},
     "output_type": "display_data"
    },
    {
     "data": {
      "text/html": [
       "(only available for Azure)"
      ],
      "text/plain": [
       "<IPython.core.display.HTML object>"
      ]
     },
     "metadata": {},
     "output_type": "display_data"
    },
    {
     "data": {
      "text/html": [
       "<p style=''>Getting data from SigninLogs...</p>"
      ],
      "text/plain": [
       "<IPython.core.display.HTML object>"
      ]
     },
     "metadata": {},
     "output_type": "display_data"
    },
    {
     "data": {
      "text/html": [
       "<p style=''>No events from AAD signins found.</p>"
      ],
      "text/plain": [
       "<IPython.core.display.HTML object>"
      ]
     },
     "metadata": {},
     "output_type": "display_data"
    },
    {
     "data": {
      "text/html": [
       "<p style=''>Getting data from AzureActivity...</p>"
      ],
      "text/plain": [
       "<IPython.core.display.HTML object>"
      ]
     },
     "metadata": {},
     "output_type": "display_data"
    },
    {
     "data": {
      "text/html": [
       "<p style=''>No events from Azure Activity found.</p>"
      ],
      "text/plain": [
       "<IPython.core.display.HTML object>"
      ]
     },
     "metadata": {},
     "output_type": "display_data"
    },
    {
     "data": {
      "text/html": [
       "<h2>Host logons</h2>"
      ],
      "text/plain": [
       "<IPython.core.display.HTML object>"
      ]
     },
     "metadata": {},
     "output_type": "display_data"
    },
    {
     "data": {
      "text/html": [
       "List of hosts with logon attempts from this IP address."
      ],
      "text/plain": [
       "<IPython.core.display.HTML object>"
      ]
     },
     "metadata": {},
     "output_type": "display_data"
    },
    {
     "data": {
      "text/html": [
       "<p style=''>Getting data from Related hosts...</p>"
      ],
      "text/plain": [
       "<IPython.core.display.HTML object>"
      ]
     },
     "metadata": {},
     "output_type": "display_data"
    },
    {
     "data": {
      "text/html": [
       "<p style=''>No results for host logons</p>"
      ],
      "text/plain": [
       "<IPython.core.display.HTML object>"
      ]
     },
     "metadata": {},
     "output_type": "display_data"
    },
    {
     "data": {
      "text/html": [
       "<h2>Related accounts</h2>"
      ],
      "text/plain": [
       "<IPython.core.display.HTML object>"
      ]
     },
     "metadata": {},
     "output_type": "display_data"
    },
    {
     "data": {
      "text/html": [
       "List of accounts using the IP address."
      ],
      "text/plain": [
       "<IPython.core.display.HTML object>"
      ]
     },
     "metadata": {},
     "output_type": "display_data"
    },
    {
     "data": {
      "text/html": [
       "<p style=''>Getting data from Related accounts...</p>"
      ],
      "text/plain": [
       "<IPython.core.display.HTML object>"
      ]
     },
     "metadata": {},
     "output_type": "display_data"
    },
    {
     "data": {
      "text/html": [
       "<p style=''>No results for related accounts</p>"
      ],
      "text/plain": [
       "<IPython.core.display.HTML object>"
      ]
     },
     "metadata": {},
     "output_type": "display_data"
    },
    {
     "data": {
      "text/html": [
       "<h2>Network connections</h2>"
      ],
      "text/plain": [
       "<IPython.core.display.HTML object>"
      ]
     },
     "metadata": {},
     "output_type": "display_data"
    },
    {
     "data": {
      "text/html": [
       "MS Defender network connections to/from this IP address."
      ],
      "text/plain": [
       "<IPython.core.display.HTML object>"
      ]
     },
     "metadata": {},
     "output_type": "display_data"
    },
    {
     "data": {
      "text/html": [
       "<p style=''>Getting data from DeviceNetworkEvents...</p>"
      ],
      "text/plain": [
       "<IPython.core.display.HTML object>"
      ]
     },
     "metadata": {},
     "output_type": "display_data"
    },
    {
     "data": {
      "text/html": [
       "<p style=''>No events from Device network connections</p>"
      ],
      "text/plain": [
       "<IPython.core.display.HTML object>"
      ]
     },
     "metadata": {},
     "output_type": "display_data"
    },
    {
     "data": {
      "text/html": [
       "<h2>Public IP data (GeoIP, ThreatIntel, Passive DNS, VPS membership)</h2>"
      ],
      "text/plain": [
       "<IPython.core.display.HTML object>"
      ]
     },
     "metadata": {},
     "output_type": "display_data"
    },
    {
     "data": {
      "text/html": [
       "<p style=''>Whois data retrieved</p>"
      ],
      "text/plain": [
       "<IPython.core.display.HTML object>"
      ]
     },
     "metadata": {},
     "output_type": "display_data"
    },
    {
     "data": {
      "text/html": [
       "<p style=''>WhoIs data</p>"
      ],
      "text/plain": [
       "<IPython.core.display.HTML object>"
      ]
     },
     "metadata": {},
     "output_type": "display_data"
    },
    {
     "data": {
      "text/html": [
       "<div>\n",
       "<style scoped>\n",
       "    .dataframe tbody tr th:only-of-type {\n",
       "        vertical-align: middle;\n",
       "    }\n",
       "\n",
       "    .dataframe tbody tr th {\n",
       "        vertical-align: top;\n",
       "    }\n",
       "\n",
       "    .dataframe thead th {\n",
       "        text-align: right;\n",
       "    }\n",
       "</style>\n",
       "<table border=\"1\" class=\"dataframe\">\n",
       "  <thead>\n",
       "    <tr style=\"text-align: right;\">\n",
       "      <th></th>\n",
       "      <th>nir</th>\n",
       "      <th>asn_registry</th>\n",
       "      <th>asn</th>\n",
       "      <th>asn_cidr</th>\n",
       "      <th>asn_country_code</th>\n",
       "      <th>asn_date</th>\n",
       "      <th>asn_description</th>\n",
       "      <th>query</th>\n",
       "      <th>nets</th>\n",
       "      <th>raw</th>\n",
       "      <th>referral</th>\n",
       "      <th>raw_referral</th>\n",
       "    </tr>\n",
       "  </thead>\n",
       "  <tbody>\n",
       "    <tr>\n",
       "      <th>0</th>\n",
       "      <td>None</td>\n",
       "      <td>ripencc</td>\n",
       "      <td>200698</td>\n",
       "      <td>185.99.3.0/24</td>\n",
       "      <td>BA</td>\n",
       "      <td>2015-05-06</td>\n",
       "      <td>GLOBALHOST-BOSNIA-AS, BA</td>\n",
       "      <td>185.99.3.60</td>\n",
       "      <td>{'cidr': '185.99.3.0/24', 'name': 'BA-GLOBALHOST', 'handle': 'GA8571-RIPE', 'range': '185.99.3.0...</td>\n",
       "      <td>None</td>\n",
       "      <td>None</td>\n",
       "      <td>None</td>\n",
       "    </tr>\n",
       "  </tbody>\n",
       "</table>\n",
       "</div>"
      ],
      "text/plain": [
       "    nir asn_registry     asn       asn_cidr asn_country_code    asn_date  \\\n",
       "0  None      ripencc  200698  185.99.3.0/24               BA  2015-05-06   \n",
       "\n",
       "            asn_description        query  \\\n",
       "0  GLOBALHOST-BOSNIA-AS, BA  185.99.3.60   \n",
       "\n",
       "                                                                                                  nets  \\\n",
       "0  {'cidr': '185.99.3.0/24', 'name': 'BA-GLOBALHOST', 'handle': 'GA8571-RIPE', 'range': '185.99.3.0...   \n",
       "\n",
       "    raw referral raw_referral  \n",
       "0  None     None         None  "
      ]
     },
     "metadata": {},
     "output_type": "display_data"
    },
    {
     "data": {
      "text/html": [
       "<p style=''>GeoLocation data retrieved</p>"
      ],
      "text/plain": [
       "<IPython.core.display.HTML object>"
      ]
     },
     "metadata": {},
     "output_type": "display_data"
    },
    {
     "data": {
      "text/html": [
       "<h3>geolocation</h3>{&nbsp;'City':&nbsp;'Novi&nbsp;Travnik',<br>&nbsp;&nbsp;'CountryCode':&nbsp;'BA',<br>&nbsp;&nbsp;'CountryName':&nbsp;'Bosnia&nbsp;and&nbsp;Herzegovina',<br>&nbsp;&nbsp;'Latitude':&nbsp;44.1678,<br>&nbsp;&nbsp;'Longitude':&nbsp;17.6563,<br>&nbsp;&nbsp;'State':&nbsp;'Federation&nbsp;of&nbsp;B&H',<br>&nbsp;&nbsp;'TimeGenerated':&nbsp;datetime.datetime(2022,&nbsp;5,&nbsp;9,&nbsp;20,&nbsp;53,&nbsp;57,&nbsp;575247),<br>&nbsp;&nbsp;'Type':&nbsp;'geolocation'}"
      ],
      "text/plain": [
       "GeoLocation(CountryCode=BA, CountryName=Bosnia and Herzegovina, State=Federation of B&H, Cit...)"
      ]
     },
     "metadata": {},
     "output_type": "display_data"
    },
    {
     "data": {
      "text/html": [
       "<p style=''>Getting data from Threat Intel...</p>"
      ],
      "text/plain": [
       "<IPython.core.display.HTML object>"
      ]
     },
     "metadata": {},
     "output_type": "display_data"
    },
    {
     "data": {
      "text/html": [
       "<p style=''>Getting data from Passive DNS...</p>"
      ],
      "text/plain": [
       "<IPython.core.display.HTML object>"
      ]
     },
     "metadata": {},
     "output_type": "display_data"
    },
    {
     "data": {
      "text/html": [
       "<p style=''>1 Passive DNS results found.</p>"
      ],
      "text/plain": [
       "<IPython.core.display.HTML object>"
      ]
     },
     "metadata": {},
     "output_type": "display_data"
    },
    {
     "data": {
      "text/html": [
       "<p style=''><h3>View the returned results object for more details.</h3></p>"
      ],
      "text/plain": [
       "<IPython.core.display.HTML object>"
      ]
     },
     "metadata": {},
     "output_type": "display_data"
    },
    {
     "data": {
      "text/html": [
       "<p style=''>Additional methods for this class:<br>browse_alerts - 'Return alert browser/viewer.'<br>browse_ti_results - 'Display Threat intel results.'<br>display_alert_timeline - 'Display the alert timeline.'<br>netflow_by_direction - 'Display netflows grouped by direction.'<br>netflow_by_protocol - 'Display netflows grouped by protocol.'<br>netflow_total_by_protocol - 'Display netflows grouped by protocol.'<br>run - 'Return IP Address activity summary.'</p>"
      ],
      "text/plain": [
       "<IPython.core.display.HTML object>"
      ]
     },
     "metadata": {},
     "output_type": "display_data"
    },
    {
     "data": {
      "text/html": [
       "<h3 style='color:black; background-color:lightgray; padding:5px;'>description</h3><br>IP&nbsp;Address&nbsp;Summary<hr><h3 style='color:black; background-color:lightgray; padding:5px;'>timespan</h3>Time span for the queried results data.&nbsp;Type: [TimeSpan]<br>TimeSpan(start=2022-05-08&nbsp;20:53:42.013161+00:00,&nbsp;end=2022-05-09&nbsp;20:53:42.013161+00:00,&nbsp;period=1&nbsp;day,&nbsp;0:00:00)<hr><h3 style='color:black; background-color:lightgray; padding:5px;'>notebooklet</h3>The notebooklet instance that created this result.&nbsp;Type: [Notebooklet]<br><msticnb.nb.azsent.network.ip_summary.IpAddressSummary&nbsp;object&nbsp;at&nbsp;0x000002BB00D91D90><hr><h3 style='color:black; background-color:lightgray; padding:5px;'>ip_str</h3>The input IP address as a string.&nbsp;Type: [str]<br>185.99.3.60<hr><h3 style='color:black; background-color:lightgray; padding:5px;'>ip_address</h3>Ip Address Python object&nbsp;Type: [Optional[Union[IPv4Address, IPv6Address]]]<br>185.99.3.60<hr><h3 style='color:black; background-color:lightgray; padding:5px;'>ip_entity</h3>IpAddress entity&nbsp;Type: [IpAddress]<br><h3>ipaddress</h3>{&nbsp;'Address':&nbsp;'185.99.3.60',<br>&nbsp;&nbsp;'Location':&nbsp;{&nbsp;'City':&nbsp;'Novi&nbsp;Travnik',<br>&nbsp;&nbsp;&nbsp;&nbsp;&nbsp;&nbsp;&nbsp;&nbsp;&nbsp;&nbsp;&nbsp;&nbsp;&nbsp;&nbsp;&nbsp;&nbsp;'CountryCode':&nbsp;'BA',<br>&nbsp;&nbsp;&nbsp;&nbsp;&nbsp;&nbsp;&nbsp;&nbsp;&nbsp;&nbsp;&nbsp;&nbsp;&nbsp;&nbsp;&nbsp;&nbsp;'CountryName':&nbsp;'Bosnia&nbsp;and&nbsp;Herzegovina',<br>&nbsp;&nbsp;&nbsp;&nbsp;&nbsp;&nbsp;&nbsp;&nbsp;&nbsp;&nbsp;&nbsp;&nbsp;&nbsp;&nbsp;&nbsp;&nbsp;'Latitude':&nbsp;44.1678,<br>&nbsp;&nbsp;&nbsp;&nbsp;&nbsp;&nbsp;&nbsp;&nbsp;&nbsp;&nbsp;&nbsp;&nbsp;&nbsp;&nbsp;&nbsp;&nbsp;'Longitude':&nbsp;17.6563,<br>&nbsp;&nbsp;&nbsp;&nbsp;&nbsp;&nbsp;&nbsp;&nbsp;&nbsp;&nbsp;&nbsp;&nbsp;&nbsp;&nbsp;&nbsp;&nbsp;'State':&nbsp;'Federation&nbsp;of&nbsp;B&H',<br>&nbsp;&nbsp;&nbsp;&nbsp;&nbsp;&nbsp;&nbsp;&nbsp;&nbsp;&nbsp;&nbsp;&nbsp;&nbsp;&nbsp;&nbsp;&nbsp;'TimeGenerated':&nbsp;datetime.datetime(2022,&nbsp;5,&nbsp;9,&nbsp;20,&nbsp;53,&nbsp;57,&nbsp;575247),<br>&nbsp;&nbsp;&nbsp;&nbsp;&nbsp;&nbsp;&nbsp;&nbsp;&nbsp;&nbsp;&nbsp;&nbsp;&nbsp;&nbsp;&nbsp;&nbsp;'Type':&nbsp;'geolocation'},<br>&nbsp;&nbsp;'TimeGenerated':&nbsp;datetime.datetime(2022,&nbsp;5,&nbsp;9,&nbsp;20,&nbsp;53,&nbsp;42,&nbsp;447981),<br>&nbsp;&nbsp;'Type':&nbsp;'ipaddress'}<hr><h3 style='color:black; background-color:lightgray; padding:5px;'>ip_origin</h3>\"External\" or \"Internal\"&nbsp;Type: [str]<br>External<hr><h3 style='color:black; background-color:lightgray; padding:5px;'>ip_type</h3>IP address type - \"Public\", \"Private\", etc.&nbsp;Type: [str]<br>Public<hr><h3 style='color:black; background-color:lightgray; padding:5px;'>host_entities</h3>Host entity or entities associated with IP Address&nbsp;Type: [Host]<br>[Host(OSFamily=OSFamily.Windows,&nbsp;TimeGenerated=2022-05-09&nbsp;20:53:47.901077,&nbsp;Type=host)]<hr><h3 style='color:black; background-color:lightgray; padding:5px;'>geoip</h3>Geo location information as a dictionary.&nbsp;Type: [Optional[Dict[str, Any]]]<br>{'city':&nbsp;{'geoname_id':&nbsp;3192236,&nbsp;'names':&nbsp;{'en':&nbsp;'Novi&nbsp;Travnik',&nbsp;'zh-CN':&nbsp;'新特拉夫尼克'}},&nbsp;'continent':&nbsp;{'code':&nbsp;'EU',&nbsp;'geoname_id':&nbsp;6255148,&nbsp;'names':&nbsp;{'de':&nbsp;'Europa',&nbsp;'en':&nbsp;'Europe',&nbsp;'es':&nbsp;'Europa',&nbsp;'fr':&nbsp;'Europe',&nbsp;'ja':&nbsp;'ヨーロッパ',&nbsp;'pt-BR':&nbsp;'Europa',&nbsp;'ru':&nbsp;'Европа',&nbsp;'zh-CN':&nbsp;'欧洲'}},&nbsp;'country':&nbsp;{'geoname_id':&nbsp;3277605,&nbsp;'iso_code':&nbsp;'BA',&nbsp;'names':&nbsp;{'de':&nbsp;'Bosnien&nbsp;und&nbsp;Herzegowina',&nbsp;'en':&nbsp;'Bosnia&nbsp;and&nbsp;Herzegovina',&nbsp;'es':&nbsp;'Bosnia-Herzegovina',&nbsp;'fr':&nbsp;'Bosnie-Herzégovine',&nbsp;'ja':&nbsp;'ボスニア・ヘルツェゴビナ',&nbsp;'pt-BR':&nbsp;'Bósnia&nbsp;e&nbsp;Herzegovina',&nbsp;'ru':&nbsp;'Босния&nbsp;и&nbsp;Герцеговина',&nbsp;'zh-CN':&nbsp;'波黑'}},&nbsp;'location':&nbsp;{'accuracy_radius':&nbsp;20,&nbsp;'latitude':&nbsp;44.1678,&nbsp;'longitude':&nbsp;17.6563,&nbsp;'time_zone':&nbsp;'Europe/Sarajevo'},&nbsp;'registered_country':&nbsp;{'geoname_id':&nbsp;3277605,&nbsp;'iso_code':&nbsp;'BA',&nbsp;'names':&nbsp;{'de':&nbsp;'Bosnien&nbsp;und&nbsp;Herzegowina',&nbsp;'en':&nbsp;'Bosnia&nbsp;and&nbsp;Herzegovina',&nbsp;'es':&nbsp;'Bosnia-Herzegovina',&nbsp;'fr':&nbsp;'Bosnie-Herzégovine',&nbsp;'ja':&nbsp;'ボスニア・ヘルツェゴビナ',&nbsp;'pt-BR':&nbsp;'Bósnia&nbsp;e&nbsp;Herzegovina',&nbsp;'ru':&nbsp;'Босния&nbsp;и&nbsp;Герцеговина',&nbsp;'zh-CN':&nbsp;'波黑'}},&nbsp;'subdivisions':&nbsp;[{'geoname_id':&nbsp;3229999,&nbsp;'iso_code':&nbsp;'BIH',&nbsp;'names':&nbsp;{'de':&nbsp;'Föderation&nbsp;Bosnien&nbsp;und&nbsp;Herzegowina',&nbsp;'en':&nbsp;'Federation&nbsp;of&nbsp;B&H',&nbsp;'es':&nbsp;'Federacion&nbsp;de&nbsp;Bosnia-Herzegovina',&nbsp;'fr':&nbsp;'Fédération&nbsp;de&nbsp;Bosnie-et-Herzégovine'}}],&nbsp;'traits':&nbsp;{'ip_address':&nbsp;'185.99.3.60',&nbsp;'prefix_len':&nbsp;22}}<hr><h3 style='color:black; background-color:lightgray; padding:5px;'>location</h3>Location entity context object.&nbsp;Type: [Optional[GeoLocation]]<br><h3>geolocation</h3>{&nbsp;'City':&nbsp;'Novi&nbsp;Travnik',<br>&nbsp;&nbsp;'CountryCode':&nbsp;'BA',<br>&nbsp;&nbsp;'CountryName':&nbsp;'Bosnia&nbsp;and&nbsp;Herzegovina',<br>&nbsp;&nbsp;'Latitude':&nbsp;44.1678,<br>&nbsp;&nbsp;'Longitude':&nbsp;17.6563,<br>&nbsp;&nbsp;'State':&nbsp;'Federation&nbsp;of&nbsp;B&H',<br>&nbsp;&nbsp;'TimeGenerated':&nbsp;datetime.datetime(2022,&nbsp;5,&nbsp;9,&nbsp;20,&nbsp;53,&nbsp;57,&nbsp;575247),<br>&nbsp;&nbsp;'Type':&nbsp;'geolocation'}<hr><h3 style='color:black; background-color:lightgray; padding:5px;'>whois</h3>WhoIs information for IP Address&nbsp;Type: [pd.DataFrame]<br><div>\n",
       "<style scoped>\n",
       "    .dataframe tbody tr th:only-of-type {\n",
       "        vertical-align: middle;\n",
       "    }\n",
       "\n",
       "    .dataframe tbody tr th {\n",
       "        vertical-align: top;\n",
       "    }\n",
       "\n",
       "    .dataframe thead th {\n",
       "        text-align: right;\n",
       "    }\n",
       "</style>\n",
       "<table border=\"1\" class=\"dataframe\">\n",
       "  <thead>\n",
       "    <tr style=\"text-align: right;\">\n",
       "      <th></th>\n",
       "      <th>nir</th>\n",
       "      <th>asn_registry</th>\n",
       "      <th>asn</th>\n",
       "      <th>asn_cidr</th>\n",
       "      <th>asn_country_code</th>\n",
       "      <th>asn_date</th>\n",
       "      <th>asn_description</th>\n",
       "      <th>query</th>\n",
       "      <th>nets</th>\n",
       "      <th>raw</th>\n",
       "      <th>referral</th>\n",
       "      <th>raw_referral</th>\n",
       "    </tr>\n",
       "  </thead>\n",
       "  <tbody>\n",
       "    <tr>\n",
       "      <th>0</th>\n",
       "      <td>None</td>\n",
       "      <td>ripencc</td>\n",
       "      <td>200698</td>\n",
       "      <td>185.99.3.0/24</td>\n",
       "      <td>BA</td>\n",
       "      <td>2015-05-06</td>\n",
       "      <td>GLOBALHOST-BOSNIA-AS, BA</td>\n",
       "      <td>185.99.3.60</td>\n",
       "      <td>{'cidr': '185.99.3.0/24', 'name': 'BA-GLOBALHOST', 'handle': 'GA8571-RIPE', 'range': '185.99.3.0...</td>\n",
       "      <td>None</td>\n",
       "      <td>None</td>\n",
       "      <td>None</td>\n",
       "    </tr>\n",
       "    <tr>\n",
       "      <th>1</th>\n",
       "      <td>None</td>\n",
       "      <td>ripencc</td>\n",
       "      <td>200698</td>\n",
       "      <td>185.99.3.0/24</td>\n",
       "      <td>BA</td>\n",
       "      <td>2015-05-06</td>\n",
       "      <td>GLOBALHOST-BOSNIA-AS, BA</td>\n",
       "      <td>185.99.3.60</td>\n",
       "      <td>{'cidr': '185.99.3.0/24', 'name': None, 'handle': None, 'range': '185.99.3.0 - 185.99.3.255', 'd...</td>\n",
       "      <td>None</td>\n",
       "      <td>None</td>\n",
       "      <td>None</td>\n",
       "    </tr>\n",
       "  </tbody>\n",
       "</table>\n",
       "</div><hr><h3 style='color:black; background-color:lightgray; padding:5px;'>whois_nets</h3>List of networks definitions from WhoIs data&nbsp;Type: [pd.DataFrame]<br><div>\n",
       "<style scoped>\n",
       "    .dataframe tbody tr th:only-of-type {\n",
       "        vertical-align: middle;\n",
       "    }\n",
       "\n",
       "    .dataframe tbody tr th {\n",
       "        vertical-align: top;\n",
       "    }\n",
       "\n",
       "    .dataframe thead th {\n",
       "        text-align: right;\n",
       "    }\n",
       "</style>\n",
       "<table border=\"1\" class=\"dataframe\">\n",
       "  <thead>\n",
       "    <tr style=\"text-align: right;\">\n",
       "      <th></th>\n",
       "      <th>cidr</th>\n",
       "      <th>name</th>\n",
       "      <th>handle</th>\n",
       "      <th>range</th>\n",
       "      <th>description</th>\n",
       "      <th>country</th>\n",
       "      <th>state</th>\n",
       "      <th>city</th>\n",
       "      <th>address</th>\n",
       "      <th>postal_code</th>\n",
       "      <th>emails</th>\n",
       "      <th>created</th>\n",
       "      <th>updated</th>\n",
       "    </tr>\n",
       "  </thead>\n",
       "  <tbody>\n",
       "    <tr>\n",
       "      <th>0</th>\n",
       "      <td>185.99.3.0/24</td>\n",
       "      <td>BA-GLOBALHOST</td>\n",
       "      <td>GA8571-RIPE</td>\n",
       "      <td>185.99.3.0 - 185.99.3.255</td>\n",
       "      <td>Globalhost d.o.o. - Dedicated Servers &amp; Colocation</td>\n",
       "      <td>BA</td>\n",
       "      <td>None</td>\n",
       "      <td>None</td>\n",
       "      <td>Globalhost d.o.o.\\nKralja Tvrtka 15\\n72290 Novi Travnik, BiH</td>\n",
       "      <td>None</td>\n",
       "      <td>None</td>\n",
       "      <td>2015-05-06T13:04:14Z</td>\n",
       "      <td>2015-07-22T09:03:50Z</td>\n",
       "    </tr>\n",
       "    <tr>\n",
       "      <th>1</th>\n",
       "      <td>185.99.3.0/24</td>\n",
       "      <td>None</td>\n",
       "      <td>None</td>\n",
       "      <td>185.99.3.0 - 185.99.3.255</td>\n",
       "      <td>Globalhost d.o.o. - Web Hosting Solutions</td>\n",
       "      <td>None</td>\n",
       "      <td>None</td>\n",
       "      <td>None</td>\n",
       "      <td>None</td>\n",
       "      <td>None</td>\n",
       "      <td>None</td>\n",
       "      <td>2015-05-06T13:08:11Z</td>\n",
       "      <td>2015-05-06T13:11:29Z</td>\n",
       "    </tr>\n",
       "  </tbody>\n",
       "</table>\n",
       "</div><hr><h3 style='color:black; background-color:lightgray; padding:5px;'>heartbeat</h3>Heartbeat record for IP Address or host&nbsp;Type: [pd.DataFrame]<br><div>\n",
       "<style scoped>\n",
       "    .dataframe tbody tr th:only-of-type {\n",
       "        vertical-align: middle;\n",
       "    }\n",
       "\n",
       "    .dataframe tbody tr th {\n",
       "        vertical-align: top;\n",
       "    }\n",
       "\n",
       "    .dataframe thead th {\n",
       "        text-align: right;\n",
       "    }\n",
       "</style>\n",
       "<table border=\"1\" class=\"dataframe\">\n",
       "  <thead>\n",
       "    <tr style=\"text-align: right;\">\n",
       "      <th></th>\n",
       "      <th>TenantId</th>\n",
       "      <th>SourceSystem</th>\n",
       "      <th>TimeGenerated</th>\n",
       "      <th>MG</th>\n",
       "      <th>ManagementGroupName</th>\n",
       "      <th>SourceComputerId</th>\n",
       "      <th>ComputerIP</th>\n",
       "      <th>Computer</th>\n",
       "      <th>Category</th>\n",
       "      <th>OSType</th>\n",
       "      <th>OSName</th>\n",
       "      <th>OSMajorVersion</th>\n",
       "      <th>OSMinorVersion</th>\n",
       "      <th>Version</th>\n",
       "      <th>SCAgentChannel</th>\n",
       "      <th>IsGatewayInstalled</th>\n",
       "      <th>RemoteIPLongitude</th>\n",
       "      <th>RemoteIPLatitude</th>\n",
       "      <th>RemoteIPCountry</th>\n",
       "      <th>SubscriptionId</th>\n",
       "      <th>ResourceGroup</th>\n",
       "      <th>ResourceProvider</th>\n",
       "      <th>Resource</th>\n",
       "      <th>ResourceId</th>\n",
       "      <th>ResourceType</th>\n",
       "      <th>ComputerEnvironment</th>\n",
       "      <th>Solutions</th>\n",
       "      <th>VMUUID</th>\n",
       "      <th>ComputerPrivateIPs</th>\n",
       "      <th>Type</th>\n",
       "      <th>_ResourceId</th>\n",
       "    </tr>\n",
       "  </thead>\n",
       "  <tbody>\n",
       "  </tbody>\n",
       "</table>\n",
       "</div><hr><h3 style='color:black; background-color:lightgray; padding:5px;'>az_network_if</h3>Azure NSG analytics interface record, if available&nbsp;Type: [pd.DataFrame]<br><div>\n",
       "<style scoped>\n",
       "    .dataframe tbody tr th:only-of-type {\n",
       "        vertical-align: middle;\n",
       "    }\n",
       "\n",
       "    .dataframe tbody tr th {\n",
       "        vertical-align: top;\n",
       "    }\n",
       "\n",
       "    .dataframe thead th {\n",
       "        text-align: right;\n",
       "    }\n",
       "</style>\n",
       "<table border=\"1\" class=\"dataframe\">\n",
       "  <thead>\n",
       "    <tr style=\"text-align: right;\">\n",
       "      <th></th>\n",
       "      <th>TenantId</th>\n",
       "      <th>SourceSystem</th>\n",
       "      <th>MG</th>\n",
       "      <th>ManagementGroupName</th>\n",
       "      <th>TimeGenerated</th>\n",
       "      <th>Computer</th>\n",
       "      <th>RawData</th>\n",
       "      <th>Weight_d</th>\n",
       "      <th>Subscription_s</th>\n",
       "      <th>FlowEndTime_s</th>\n",
       "      <th>FlowStartTime_s</th>\n",
       "      <th>Subscription2_s</th>\n",
       "      <th>ApplicationGatewayBackendPools_s</th>\n",
       "      <th>LoadBalancerBackendPools_s</th>\n",
       "      <th>IPAddress</th>\n",
       "      <th>SubnetPrefixes_s</th>\n",
       "      <th>BGPEnabled_b</th>\n",
       "      <th>GatewayType_s</th>\n",
       "      <th>SKU_s</th>\n",
       "      <th>VIPAddress_s</th>\n",
       "      <th>VirtualSubnetwork_s</th>\n",
       "      <th>VpnClientAddressPrefixes_s</th>\n",
       "      <th>ConnectionStatus_s</th>\n",
       "      <th>EgressBytesTransferred_d</th>\n",
       "      <th>GatewayConnectionType_s</th>\n",
       "      <th>...</th>\n",
       "      <th>AllowedInFlows_d</th>\n",
       "      <th>DeniedInFlows_d</th>\n",
       "      <th>AllowedOutFlows_d</th>\n",
       "      <th>DeniedOutFlows_d</th>\n",
       "      <th>FlowCount_d</th>\n",
       "      <th>InboundPackets_d</th>\n",
       "      <th>OutboundPackets_d</th>\n",
       "      <th>InboundBytes_d</th>\n",
       "      <th>OutboundBytes_d</th>\n",
       "      <th>CompletedFlows_d</th>\n",
       "      <th>PublicIPs_s</th>\n",
       "      <th>SrcPublicIPs_s</th>\n",
       "      <th>DestPublicIPs_s</th>\n",
       "      <th>batchSizeInBytes_d</th>\n",
       "      <th>ComponentType_s</th>\n",
       "      <th>DiscoveryRegion_s</th>\n",
       "      <th>ResourceType</th>\n",
       "      <th>Status_s</th>\n",
       "      <th>SubType_s</th>\n",
       "      <th>Subscription_g</th>\n",
       "      <th>SubscriptionName_s</th>\n",
       "      <th>TimeProcessed_t</th>\n",
       "      <th>TopologyVersion_s</th>\n",
       "      <th>Type</th>\n",
       "      <th>_ResourceId</th>\n",
       "    </tr>\n",
       "  </thead>\n",
       "  <tbody>\n",
       "  </tbody>\n",
       "</table>\n",
       "<p>0 rows × 181 columns</p>\n",
       "</div><hr><h3 style='color:black; background-color:lightgray; padding:5px;'>vmcomputer</h3>VMComputer latest record&nbsp;Type: [pd.DataFrame]<br><div>\n",
       "<style scoped>\n",
       "    .dataframe tbody tr th:only-of-type {\n",
       "        vertical-align: middle;\n",
       "    }\n",
       "\n",
       "    .dataframe tbody tr th {\n",
       "        vertical-align: top;\n",
       "    }\n",
       "\n",
       "    .dataframe thead th {\n",
       "        text-align: right;\n",
       "    }\n",
       "</style>\n",
       "<table border=\"1\" class=\"dataframe\">\n",
       "  <thead>\n",
       "    <tr style=\"text-align: right;\">\n",
       "      <th></th>\n",
       "      <th>TimeGenerated</th>\n",
       "      <th>Computer</th>\n",
       "      <th>AgentId</th>\n",
       "      <th>Machine</th>\n",
       "      <th>DisplayName</th>\n",
       "      <th>FullDisplayName</th>\n",
       "      <th>HostName</th>\n",
       "      <th>BootTime</th>\n",
       "      <th>TimeZone</th>\n",
       "      <th>VirtualizationState</th>\n",
       "      <th>Ipv4Addresses</th>\n",
       "      <th>Ipv4SubnetMasks</th>\n",
       "      <th>Ipv4DefaultGateways</th>\n",
       "      <th>Ipv6Addresses</th>\n",
       "      <th>MacAddresses</th>\n",
       "      <th>DnsNames</th>\n",
       "      <th>DependencyAgentVersion</th>\n",
       "      <th>OperatingSystemFamily</th>\n",
       "      <th>OperatingSystemFullName</th>\n",
       "      <th>PhysicalMemoryMB</th>\n",
       "      <th>Cpus</th>\n",
       "      <th>CpuSpeed</th>\n",
       "      <th>VirtualMachineType</th>\n",
       "      <th>VirtualMachineNativeId</th>\n",
       "      <th>VirtualMachineNativeName</th>\n",
       "      <th>...</th>\n",
       "      <th>AzureResourceName</th>\n",
       "      <th>AzureLocation</th>\n",
       "      <th>AzureUpdateDomain</th>\n",
       "      <th>AzureFaultDomain</th>\n",
       "      <th>AzureVmId</th>\n",
       "      <th>AzureSize</th>\n",
       "      <th>AzureImagePublisher</th>\n",
       "      <th>AzureImageOffering</th>\n",
       "      <th>AzureImageSku</th>\n",
       "      <th>AzureImageVersion</th>\n",
       "      <th>AzureCloudServiceName</th>\n",
       "      <th>AzureCloudServiceDeployment</th>\n",
       "      <th>AzureCloudServiceRoleName</th>\n",
       "      <th>AzureCloudServiceRoleType</th>\n",
       "      <th>AzureCloudServiceInstanceId</th>\n",
       "      <th>AzureVmScaleSetName</th>\n",
       "      <th>AzureVmScaleSetDeployment</th>\n",
       "      <th>AzureVmScaleSetResourceId</th>\n",
       "      <th>AzureVmScaleSetInstanceId</th>\n",
       "      <th>AzureServiceFabricClusterId</th>\n",
       "      <th>AzureServiceFabricClusterName</th>\n",
       "      <th>TenantId</th>\n",
       "      <th>SourceSystem</th>\n",
       "      <th>Type</th>\n",
       "      <th>_ResourceId</th>\n",
       "    </tr>\n",
       "  </thead>\n",
       "  <tbody>\n",
       "  </tbody>\n",
       "</table>\n",
       "<p>0 rows × 56 columns</p>\n",
       "</div><hr><h3 style='color:black; background-color:lightgray; padding:5px;'>aad_signins</h3>AAD signin activity&nbsp;Type: [pd.DataFrame = None]<br><div>\n",
       "<style scoped>\n",
       "    .dataframe tbody tr th:only-of-type {\n",
       "        vertical-align: middle;\n",
       "    }\n",
       "\n",
       "    .dataframe tbody tr th {\n",
       "        vertical-align: top;\n",
       "    }\n",
       "\n",
       "    .dataframe thead th {\n",
       "        text-align: right;\n",
       "    }\n",
       "</style>\n",
       "<table border=\"1\" class=\"dataframe\">\n",
       "  <thead>\n",
       "    <tr style=\"text-align: right;\">\n",
       "      <th></th>\n",
       "      <th>TenantId</th>\n",
       "      <th>SourceSystem</th>\n",
       "      <th>TimeGenerated</th>\n",
       "      <th>ResourceId</th>\n",
       "      <th>OperationName</th>\n",
       "      <th>OperationVersion</th>\n",
       "      <th>Category</th>\n",
       "      <th>ResultType</th>\n",
       "      <th>ResultSignature</th>\n",
       "      <th>ResultDescription</th>\n",
       "      <th>DurationMs</th>\n",
       "      <th>CorrelationId</th>\n",
       "      <th>Resource</th>\n",
       "      <th>ResourceGroup</th>\n",
       "      <th>ResourceProvider</th>\n",
       "      <th>Identity</th>\n",
       "      <th>Level</th>\n",
       "      <th>Location</th>\n",
       "      <th>AlternateSignInName</th>\n",
       "      <th>AppDisplayName</th>\n",
       "      <th>AppId</th>\n",
       "      <th>AuthenticationContextClassReferences</th>\n",
       "      <th>AuthenticationDetails</th>\n",
       "      <th>AuthenticationMethodsUsed</th>\n",
       "      <th>AuthenticationProcessingDetails</th>\n",
       "      <th>...</th>\n",
       "      <th>RiskState</th>\n",
       "      <th>ResourceDisplayName</th>\n",
       "      <th>ResourceIdentity</th>\n",
       "      <th>ResourceServicePrincipalId</th>\n",
       "      <th>ServicePrincipalId</th>\n",
       "      <th>ServicePrincipalName</th>\n",
       "      <th>Status</th>\n",
       "      <th>TokenIssuerName</th>\n",
       "      <th>TokenIssuerType</th>\n",
       "      <th>UserAgent</th>\n",
       "      <th>UserDisplayName</th>\n",
       "      <th>UserId</th>\n",
       "      <th>UserPrincipalName</th>\n",
       "      <th>AADTenantId</th>\n",
       "      <th>UserType</th>\n",
       "      <th>FlaggedForReview</th>\n",
       "      <th>IPAddressFromResourceProvider</th>\n",
       "      <th>SignInIdentifier</th>\n",
       "      <th>SignInIdentifierType</th>\n",
       "      <th>ResourceTenantId</th>\n",
       "      <th>HomeTenantId</th>\n",
       "      <th>UniqueTokenIdentifier</th>\n",
       "      <th>SessionLifetimePolicies</th>\n",
       "      <th>AutonomousSystemNumber</th>\n",
       "      <th>Type</th>\n",
       "    </tr>\n",
       "  </thead>\n",
       "  <tbody>\n",
       "  </tbody>\n",
       "</table>\n",
       "<p>0 rows × 71 columns</p>\n",
       "</div><hr><h3 style='color:black; background-color:lightgray; padding:5px;'>azure_activity</h3>Azure Activity log entries&nbsp;Type: [pd.DataFrame = None]<br><div>\n",
       "<style scoped>\n",
       "    .dataframe tbody tr th:only-of-type {\n",
       "        vertical-align: middle;\n",
       "    }\n",
       "\n",
       "    .dataframe tbody tr th {\n",
       "        vertical-align: top;\n",
       "    }\n",
       "\n",
       "    .dataframe thead th {\n",
       "        text-align: right;\n",
       "    }\n",
       "</style>\n",
       "<table border=\"1\" class=\"dataframe\">\n",
       "  <thead>\n",
       "    <tr style=\"text-align: right;\">\n",
       "      <th></th>\n",
       "      <th>OperationName</th>\n",
       "      <th>OperationNameValue</th>\n",
       "      <th>Level</th>\n",
       "      <th>ActivityStatus</th>\n",
       "      <th>ActivityStatusValue</th>\n",
       "      <th>ActivitySubstatus</th>\n",
       "      <th>ActivitySubstatusValue</th>\n",
       "      <th>ResourceGroup</th>\n",
       "      <th>SubscriptionId</th>\n",
       "      <th>CorrelationId</th>\n",
       "      <th>Caller</th>\n",
       "      <th>CallerIpAddress</th>\n",
       "      <th>Category</th>\n",
       "      <th>CategoryValue</th>\n",
       "      <th>HTTPRequest</th>\n",
       "      <th>Properties</th>\n",
       "      <th>EventSubmissionTimestamp</th>\n",
       "      <th>Authorization</th>\n",
       "      <th>ResourceId</th>\n",
       "      <th>OperationId</th>\n",
       "      <th>ResourceProvider</th>\n",
       "      <th>ResourceProviderValue</th>\n",
       "      <th>Resource</th>\n",
       "      <th>EventDataId</th>\n",
       "      <th>TenantId</th>\n",
       "      <th>TimeGenerated</th>\n",
       "      <th>SourceSystem</th>\n",
       "      <th>Authorization_d</th>\n",
       "      <th>Claims</th>\n",
       "      <th>Claims_d</th>\n",
       "      <th>Properties_d</th>\n",
       "      <th>Hierarchy</th>\n",
       "      <th>Type</th>\n",
       "      <th>_ResourceId</th>\n",
       "    </tr>\n",
       "  </thead>\n",
       "  <tbody>\n",
       "  </tbody>\n",
       "</table>\n",
       "</div><hr><h3 style='color:black; background-color:lightgray; padding:5px;'>related_alerts</h3><br><div>\n",
       "<style scoped>\n",
       "    .dataframe tbody tr th:only-of-type {\n",
       "        vertical-align: middle;\n",
       "    }\n",
       "\n",
       "    .dataframe tbody tr th {\n",
       "        vertical-align: top;\n",
       "    }\n",
       "\n",
       "    .dataframe thead th {\n",
       "        text-align: right;\n",
       "    }\n",
       "</style>\n",
       "<table border=\"1\" class=\"dataframe\">\n",
       "  <thead>\n",
       "    <tr style=\"text-align: right;\">\n",
       "      <th></th>\n",
       "      <th>TenantId</th>\n",
       "      <th>TimeGenerated</th>\n",
       "      <th>AlertDisplayName</th>\n",
       "      <th>AlertName</th>\n",
       "      <th>Severity</th>\n",
       "      <th>Description</th>\n",
       "      <th>ProviderName</th>\n",
       "      <th>VendorName</th>\n",
       "      <th>VendorOriginalId</th>\n",
       "      <th>SystemAlertId</th>\n",
       "      <th>ResourceId</th>\n",
       "      <th>SourceComputerId</th>\n",
       "      <th>AlertType</th>\n",
       "      <th>ConfidenceLevel</th>\n",
       "      <th>ConfidenceScore</th>\n",
       "      <th>IsIncident</th>\n",
       "      <th>StartTimeUtc</th>\n",
       "      <th>EndTimeUtc</th>\n",
       "      <th>ProcessingEndTime</th>\n",
       "      <th>RemediationSteps</th>\n",
       "      <th>ExtendedProperties</th>\n",
       "      <th>Entities</th>\n",
       "      <th>SourceSystem</th>\n",
       "      <th>WorkspaceSubscriptionId</th>\n",
       "      <th>WorkspaceResourceGroup</th>\n",
       "      <th>ExtendedLinks</th>\n",
       "      <th>ProductName</th>\n",
       "      <th>ProductComponentName</th>\n",
       "      <th>AlertLink</th>\n",
       "      <th>Status</th>\n",
       "      <th>CompromisedEntity</th>\n",
       "      <th>Tactics</th>\n",
       "      <th>Techniques</th>\n",
       "      <th>Type</th>\n",
       "      <th>SystemAlertId1</th>\n",
       "      <th>ExtendedProperties1</th>\n",
       "      <th>Entities1</th>\n",
       "      <th>MatchingIps</th>\n",
       "    </tr>\n",
       "  </thead>\n",
       "  <tbody>\n",
       "  </tbody>\n",
       "</table>\n",
       "</div><hr><h3 style='color:black; background-color:lightgray; padding:5px;'>ti_results</h3>Threat intel lookup results&nbsp;Type: [pd.DataFrame]<br><div>\n",
       "<style scoped>\n",
       "    .dataframe tbody tr th:only-of-type {\n",
       "        vertical-align: middle;\n",
       "    }\n",
       "\n",
       "    .dataframe tbody tr th {\n",
       "        vertical-align: top;\n",
       "    }\n",
       "\n",
       "    .dataframe thead th {\n",
       "        text-align: right;\n",
       "    }\n",
       "</style>\n",
       "<table border=\"1\" class=\"dataframe\">\n",
       "  <thead>\n",
       "    <tr style=\"text-align: right;\">\n",
       "      <th></th>\n",
       "      <th>Ioc</th>\n",
       "      <th>IocType</th>\n",
       "      <th>QuerySubtype</th>\n",
       "      <th>Provider</th>\n",
       "      <th>Result</th>\n",
       "      <th>Severity</th>\n",
       "      <th>Details</th>\n",
       "      <th>RawResult</th>\n",
       "      <th>Reference</th>\n",
       "      <th>Status</th>\n",
       "    </tr>\n",
       "  </thead>\n",
       "  <tbody>\n",
       "    <tr>\n",
       "      <th>OTX</th>\n",
       "      <td>185.99.3.60</td>\n",
       "      <td>ipv4</td>\n",
       "      <td>None</td>\n",
       "      <td>OTX</td>\n",
       "      <td>True</td>\n",
       "      <td>information</td>\n",
       "      <td>{'pulse_count': 0, 'sections_available': ['general', 'geo', 'reputation', 'url_list', 'passive_d...</td>\n",
       "      <td>{'whois': 'http://whois.domaintools.com/185.99.3.60', 'reputation': 0, 'indicator': '185.99.3.60...</td>\n",
       "      <td>https://otx.alienvault.com/api/v1/indicators/IPv4/185.99.3.60/general</td>\n",
       "      <td>0</td>\n",
       "    </tr>\n",
       "    <tr>\n",
       "      <th>OPR</th>\n",
       "      <td>185.99.3.60</td>\n",
       "      <td>ipv4</td>\n",
       "      <td>None</td>\n",
       "      <td>OPR</td>\n",
       "      <td>False</td>\n",
       "      <td>information</td>\n",
       "      <td>IoC type ipv4 not supported.</td>\n",
       "      <td>None</td>\n",
       "      <td>None</td>\n",
       "      <td>1</td>\n",
       "    </tr>\n",
       "    <tr>\n",
       "      <th>RiskIQ</th>\n",
       "      <td>185.99.3.60</td>\n",
       "      <td>ipv4</td>\n",
       "      <td>None</td>\n",
       "      <td>RiskIQ</td>\n",
       "      <td>True</td>\n",
       "      <td>information</td>\n",
       "      <td>{'summary': {'resolutions': 56, 'certificates': 9, 'malware_hashes': 0, 'projects': 0, 'articles...</td>\n",
       "      <td>{'summary': {'resolutions': 56, 'certificates': 9, 'malware_hashes': 0, 'projects': 0, 'articles...</td>\n",
       "      <td>https://community.riskiq.com</td>\n",
       "      <td>0</td>\n",
       "    </tr>\n",
       "    <tr>\n",
       "      <th>Tor</th>\n",
       "      <td>185.99.3.60</td>\n",
       "      <td>ipv4</td>\n",
       "      <td>None</td>\n",
       "      <td>Tor</td>\n",
       "      <td>True</td>\n",
       "      <td>information</td>\n",
       "      <td>Not found.</td>\n",
       "      <td>None</td>\n",
       "      <td>https://check.torproject.org/exit-addresses</td>\n",
       "      <td>0</td>\n",
       "    </tr>\n",
       "    <tr>\n",
       "      <th>VirusTotal</th>\n",
       "      <td>185.99.3.60</td>\n",
       "      <td>ipv4</td>\n",
       "      <td>None</td>\n",
       "      <td>VirusTotal</td>\n",
       "      <td>True</td>\n",
       "      <td>information</td>\n",
       "      <td>{'verbose_msg': 'IP address in dataset', 'response_code': 1, 'positives': 0, 'detected_urls': []}</td>\n",
       "      <td>{'detected_urls': [{'url': 'http://mail.removeherpes.bid/', 'positives': 1, 'total': 64, 'scan_d...</td>\n",
       "      <td>https://www.virustotal.com/vtapi/v2/ip-address/report</td>\n",
       "      <td>0</td>\n",
       "    </tr>\n",
       "  </tbody>\n",
       "</table>\n",
       "</div><br>(showing top 5 of 6 rows)<hr><h3 style='color:black; background-color:lightgray; padding:5px;'>passive_dns</h3>Passive DNS lookup results&nbsp;Type: [pd.DataFrame]<br><div>\n",
       "<style scoped>\n",
       "    .dataframe tbody tr th:only-of-type {\n",
       "        vertical-align: middle;\n",
       "    }\n",
       "\n",
       "    .dataframe tbody tr th {\n",
       "        vertical-align: top;\n",
       "    }\n",
       "\n",
       "    .dataframe thead th {\n",
       "        text-align: right;\n",
       "    }\n",
       "</style>\n",
       "<table border=\"1\" class=\"dataframe\">\n",
       "  <thead>\n",
       "    <tr style=\"text-align: right;\">\n",
       "      <th></th>\n",
       "      <th>Ioc</th>\n",
       "      <th>IocType</th>\n",
       "      <th>QuerySubtype</th>\n",
       "      <th>Provider</th>\n",
       "      <th>Result</th>\n",
       "      <th>Severity</th>\n",
       "      <th>Details</th>\n",
       "      <th>RawResult</th>\n",
       "      <th>Reference</th>\n",
       "      <th>Status</th>\n",
       "    </tr>\n",
       "  </thead>\n",
       "  <tbody>\n",
       "    <tr>\n",
       "      <th>XForce</th>\n",
       "      <td>185.99.3.60</td>\n",
       "      <td>ipv4</td>\n",
       "      <td>passivedns</td>\n",
       "      <td>XForce</td>\n",
       "      <td>False</td>\n",
       "      <td>information</td>\n",
       "      <td>Authorization failed. Check account and key details.</td>\n",
       "      <td>&lt;Response [401 Unauthorized]&gt;</td>\n",
       "      <td>https://api.xforce.ibmcloud.com/resolve/185.99.3.60</td>\n",
       "      <td>401</td>\n",
       "    </tr>\n",
       "  </tbody>\n",
       "</table>\n",
       "</div><hr><h3 style='color:black; background-color:lightgray; padding:5px;'>associated_hosts</h3><br><div>\n",
       "<style scoped>\n",
       "    .dataframe tbody tr th:only-of-type {\n",
       "        vertical-align: middle;\n",
       "    }\n",
       "\n",
       "    .dataframe tbody tr th {\n",
       "        vertical-align: top;\n",
       "    }\n",
       "\n",
       "    .dataframe thead th {\n",
       "        text-align: right;\n",
       "    }\n",
       "</style>\n",
       "<table border=\"1\" class=\"dataframe\">\n",
       "  <thead>\n",
       "    <tr style=\"text-align: right;\">\n",
       "      <th></th>\n",
       "      <th>IPAddress</th>\n",
       "      <th>DeviceName</th>\n",
       "      <th>DeviceId</th>\n",
       "      <th>TimeGenerated</th>\n",
       "      <th>TenantId</th>\n",
       "      <th>ConnectedNetworks</th>\n",
       "      <th>DefaultGateways</th>\n",
       "      <th>DnsAddresses</th>\n",
       "      <th>IPAddresses</th>\n",
       "      <th>IPv4Dhcp</th>\n",
       "      <th>IPv6Dhcp</th>\n",
       "      <th>MacAddress</th>\n",
       "      <th>MachineGroup</th>\n",
       "      <th>NetworkAdapterName</th>\n",
       "      <th>NetworkAdapterStatus</th>\n",
       "      <th>NetworkAdapterType</th>\n",
       "      <th>ReportId</th>\n",
       "      <th>Timestamp</th>\n",
       "      <th>TunnelType</th>\n",
       "      <th>SourceSystem</th>\n",
       "      <th>Type</th>\n",
       "    </tr>\n",
       "  </thead>\n",
       "  <tbody>\n",
       "  </tbody>\n",
       "</table>\n",
       "</div><hr><h3 style='color:black; background-color:lightgray; padding:5px;'>network_connections</h3><br><div>\n",
       "<style scoped>\n",
       "    .dataframe tbody tr th:only-of-type {\n",
       "        vertical-align: middle;\n",
       "    }\n",
       "\n",
       "    .dataframe tbody tr th {\n",
       "        vertical-align: top;\n",
       "    }\n",
       "\n",
       "    .dataframe thead th {\n",
       "        text-align: right;\n",
       "    }\n",
       "</style>\n",
       "<table border=\"1\" class=\"dataframe\">\n",
       "  <thead>\n",
       "    <tr style=\"text-align: right;\">\n",
       "      <th></th>\n",
       "      <th>Computer</th>\n",
       "      <th>LocalIP</th>\n",
       "      <th>RemoteIP</th>\n",
       "      <th>ActionType</th>\n",
       "      <th>InitiatingProcessAccountName</th>\n",
       "      <th>InitiatingProcessFolderPath</th>\n",
       "      <th>InitiatingProcessSHA256</th>\n",
       "      <th>Count</th>\n",
       "      <th>FirstOperation</th>\n",
       "      <th>LastOperation</th>\n",
       "    </tr>\n",
       "  </thead>\n",
       "  <tbody>\n",
       "  </tbody>\n",
       "</table>\n",
       "</div><hr>"
      ],
      "text/plain": [
       "<msticnb.nb.azsent.network.ip_summary.IpSummaryResult at 0x2bb00d90790>"
      ]
     },
     "execution_count": 8,
     "metadata": {},
     "output_type": "execute_result"
    }
   ],
   "source": [
    "ip_summary.run(value=src, timespan=ip_summary.timespan)"
   ]
  }
 ],
 "metadata": {
  "interpreter": {
   "hash": "2bc37074a50de3994d4ebdf9197e864a43c9c15c9793b7f9f3363bcff9457253"
  },
  "kernelspec": {
   "display_name": "Python (condadev)",
   "language": "python",
   "name": "python3"
  },
  "language_info": {
   "codemirror_mode": {
    "name": "ipython",
    "version": 3
   },
   "file_extension": ".py",
   "mimetype": "text/x-python",
   "name": "python",
   "nbconvert_exporter": "python",
   "pygments_lexer": "ipython3",
   "version": "3.9.7"
  },
  "widgets": {
   "application/vnd.jupyter.widget-state+json": {
    "state": {
     "05250e2a39cb4dd0afd45e9539b1521b": {
      "model_module": "@jupyter-widgets/controls",
      "model_module_version": "1.5.0",
      "model_name": "DatePickerModel",
      "state": {
       "description": "Origin Date",
       "disabled": false,
       "layout": "IPY_MODEL_18a72a57a0b54e5eadec115a70ddfd32",
       "style": "IPY_MODEL_dd24fb69145740bd87abd53c80e07b62",
       "value": {
        "date": 29,
        "month": 5,
        "year": 2021
       }
      }
     },
     "069a1300fd0643a5b4b6e82ba23cbc83": {
      "model_module": "@jupyter-widgets/controls",
      "model_module_version": "1.5.0",
      "model_name": "TextModel",
      "state": {
       "description": "Query end time (UTC) :  ",
       "layout": "IPY_MODEL_f7bbaab77dc54e32bab4bc9a2ba6907b",
       "style": "IPY_MODEL_7ab4be6adf84462a8f1c152b48372614",
       "value": "2021-06-30 16:29:37.607447"
      }
     },
     "0728f5babefe42099ae5c208bd3e4f4e": {
      "model_module": "@jupyter-widgets/controls",
      "model_module_version": "1.5.0",
      "model_name": "DescriptionStyleModel",
      "state": {
       "description_width": ""
      }
     },
     "0b085abbc2ca4083b24f307713383b8e": {
      "model_module": "@jupyter-widgets/base",
      "model_module_version": "1.2.0",
      "model_name": "LayoutModel",
      "state": {}
     },
     "0e42a23ad8d449d5a568e16a5727a099": {
      "model_module": "@jupyter-widgets/controls",
      "model_module_version": "1.5.0",
      "model_name": "VBoxModel",
      "state": {
       "children": [
        "IPY_MODEL_e567028bd34247cc95d3bfc00f9415a8",
        "IPY_MODEL_aae22e51142f48a585d6188ebbd86ce6",
        "IPY_MODEL_069a1300fd0643a5b4b6e82ba23cbc83"
       ],
       "layout": "IPY_MODEL_55ab48e935594159914fb30fea0bda7a"
      }
     },
     "13e6c076d2fd432cb20a0c84916feb24": {
      "model_module": "@jupyter-widgets/base",
      "model_module_version": "1.2.0",
      "model_name": "LayoutModel",
      "state": {}
     },
     "14ad60e166c4413990bded5475da9515": {
      "model_module": "@jupyter-widgets/controls",
      "model_module_version": "1.5.0",
      "model_name": "SliderStyleModel",
      "state": {
       "description_width": "initial"
      }
     },
     "160c16d61db94e47b321a20bf0cf8c60": {
      "model_module": "@jupyter-widgets/controls",
      "model_module_version": "1.5.0",
      "model_name": "DescriptionStyleModel",
      "state": {
       "description_width": ""
      }
     },
     "160ce26e8eac4a55b8e5befe7fe7939a": {
      "model_module": "@jupyter-widgets/controls",
      "model_module_version": "1.5.0",
      "model_name": "DescriptionStyleModel",
      "state": {
       "description_width": ""
      }
     },
     "18a72a57a0b54e5eadec115a70ddfd32": {
      "model_module": "@jupyter-widgets/base",
      "model_module_version": "1.2.0",
      "model_name": "LayoutModel",
      "state": {}
     },
     "1baea84137bf4637bc3fbea79f6acdeb": {
      "model_module": "@jupyter-widgets/controls",
      "model_module_version": "1.5.0",
      "model_name": "HTMLModel",
      "state": {
       "layout": "IPY_MODEL_258aaf9ce8394909b5197bb3ecb0330d",
       "style": "IPY_MODEL_31ab56808af147b288f8d91b48c7c013",
       "value": "<h4>Set query time boundaries</h4>"
      }
     },
     "20bac7a254414fdfbd407cc9fb77d14a": {
      "model_module": "@jupyter-widgets/controls",
      "model_module_version": "1.5.0",
      "model_name": "DropdownModel",
      "state": {
       "_options_labels": [
        "minute",
        "hour",
        "day",
        "week"
       ],
       "index": 2,
       "layout": "IPY_MODEL_8c7edb31081e4f37a2f53dfc2bb1430c",
       "style": "IPY_MODEL_160c16d61db94e47b321a20bf0cf8c60"
      }
     },
     "21812865de9f47529710e26786f476b3": {
      "model_module": "@jupyter-widgets/base",
      "model_module_version": "1.2.0",
      "model_name": "LayoutModel",
      "state": {
       "width": "50%"
      }
     },
     "22c5bd51fc0f49efa72f2205e598269d": {
      "model_module": "@jupyter-widgets/base",
      "model_module_version": "1.2.0",
      "model_name": "LayoutModel",
      "state": {
       "height": "150px",
       "width": "300px"
      }
     },
     "22ea8d6b236740d58c2827627f9bf134": {
      "model_module": "@jupyter-widgets/controls",
      "model_module_version": "1.5.0",
      "model_name": "IntRangeSliderModel",
      "state": {
       "_model_name": "IntRangeSliderModel",
       "_view_name": "IntRangeSliderView",
       "description": "Time Range",
       "layout": "IPY_MODEL_bc1028b15e6948889e625c571fbedaf7",
       "max": 28,
       "min": -28,
       "style": "IPY_MODEL_14ad60e166c4413990bded5475da9515",
       "value": [
        -1,
        1
       ]
      }
     },
     "23f016c870964421a7e36c9b8eb4c1a7": {
      "model_module": "@jupyter-widgets/controls",
      "model_module_version": "1.5.0",
      "model_name": "HBoxModel",
      "state": {
       "children": [
        "IPY_MODEL_6cf478d4c1a24fb3af6b868ef8179010",
        "IPY_MODEL_6308026eb7ae4404a2a11885e10b4ada"
       ],
       "layout": "IPY_MODEL_447bcd9af9074b8e83f2aa53be6712a0"
      }
     },
     "258aaf9ce8394909b5197bb3ecb0330d": {
      "model_module": "@jupyter-widgets/base",
      "model_module_version": "1.2.0",
      "model_name": "LayoutModel",
      "state": {}
     },
     "28da27707b194034bc07719387dfee4a": {
      "model_module": "@jupyter-widgets/base",
      "model_module_version": "1.2.0",
      "model_name": "LayoutModel",
      "state": {
       "height": "150px",
       "width": "300px"
      }
     },
     "29e5ad35095747dab14166d6643d4c3f": {
      "model_module": "@jupyter-widgets/controls",
      "model_module_version": "1.5.0",
      "model_name": "VBoxModel",
      "state": {
       "children": [
        "IPY_MODEL_92a6d158d57242ba9169a5ba1da12c4e",
        "IPY_MODEL_8b107d3477cb4e5ca2c70afb6f4c606f",
        "IPY_MODEL_67496c6fd4ee415dbdf38ba503b879f7"
       ],
       "layout": "IPY_MODEL_8e26849aaa1d4e0aa184bb12c388cd2d"
      }
     },
     "3150ac97093f4f72809f1e9740e8c74c": {
      "model_module": "@jupyter-widgets/base",
      "model_module_version": "1.2.0",
      "model_name": "LayoutModel",
      "state": {
       "width": "100px"
      }
     },
     "31ab56808af147b288f8d91b48c7c013": {
      "model_module": "@jupyter-widgets/controls",
      "model_module_version": "1.5.0",
      "model_name": "DescriptionStyleModel",
      "state": {
       "description_width": ""
      }
     },
     "36073b2d7ff04fe9b257abcb14721545": {
      "model_module": "@jupyter-widgets/controls",
      "model_module_version": "1.5.0",
      "model_name": "DescriptionStyleModel",
      "state": {
       "description_width": ""
      }
     },
     "37e4578fa5e94e70af679916060c87e9": {
      "model_module": "@jupyter-widgets/base",
      "model_module_version": "1.2.0",
      "model_name": "LayoutModel",
      "state": {}
     },
     "380b2d91f036463cbbcb3aacb1625d99": {
      "model_module": "@jupyter-widgets/base",
      "model_module_version": "1.2.0",
      "model_name": "LayoutModel",
      "state": {}
     },
     "3c7e4d24ad604d819ce9f3de71ed8f8e": {
      "model_module": "@jupyter-widgets/base",
      "model_module_version": "1.2.0",
      "model_name": "LayoutModel",
      "state": {
       "width": "95%"
      }
     },
     "3ceebc929c514a80965f41243dc0d7f9": {
      "model_module": "@jupyter-widgets/base",
      "model_module_version": "1.2.0",
      "model_name": "LayoutModel",
      "state": {
       "width": "95%"
      }
     },
     "3d8e63de83f945fd96aedf53c8641b05": {
      "model_module": "@jupyter-widgets/base",
      "model_module_version": "1.2.0",
      "model_name": "LayoutModel",
      "state": {}
     },
     "3fa5d4f949e24a49bbb76cb35fc3792e": {
      "model_module": "@jupyter-widgets/base",
      "model_module_version": "1.2.0",
      "model_name": "LayoutModel",
      "state": {}
     },
     "407f4861901e48cb91ac701eadd9ce5c": {
      "model_module": "@jupyter-widgets/base",
      "model_module_version": "1.2.0",
      "model_name": "LayoutModel",
      "state": {}
     },
     "447bcd9af9074b8e83f2aa53be6712a0": {
      "model_module": "@jupyter-widgets/base",
      "model_module_version": "1.2.0",
      "model_name": "LayoutModel",
      "state": {}
     },
     "44a4422d2781426c8a7a25b98d32018d": {
      "model_module": "@jupyter-widgets/base",
      "model_module_version": "1.2.0",
      "model_name": "LayoutModel",
      "state": {}
     },
     "49fc740f697f4b1396c8e7a1633db4fd": {
      "model_module": "@jupyter-widgets/controls",
      "model_module_version": "1.5.0",
      "model_name": "LabelModel",
      "state": {
       "layout": "IPY_MODEL_ff418a6059cc4925b27302ba7d6db9eb",
       "style": "IPY_MODEL_e9e20e8c5d924c5f93a1d6a4c2d9961e"
      }
     },
     "4b26a6105f114ce18e3ea6f5ba69ab84": {
      "model_module": "@jupyter-widgets/base",
      "model_module_version": "1.2.0",
      "model_name": "LayoutModel",
      "state": {}
     },
     "51be2fd73b4842a1b50c58d27246a8a6": {
      "model_module": "@jupyter-widgets/base",
      "model_module_version": "1.2.0",
      "model_name": "LayoutModel",
      "state": {
       "width": "50%"
      }
     },
     "5366fa902be244968e04fb64209a0b56": {
      "model_module": "@jupyter-widgets/controls",
      "model_module_version": "1.5.0",
      "model_name": "DatePickerModel",
      "state": {
       "description": "Origin Date",
       "disabled": false,
       "layout": "IPY_MODEL_c136aaa07d614c7f8c614fcdb491018c",
       "style": "IPY_MODEL_c77ce1843b14489381ceeafcc3330c38",
       "value": {
        "date": 29,
        "month": 5,
        "year": 2021
       }
      }
     },
     "55ab48e935594159914fb30fea0bda7a": {
      "model_module": "@jupyter-widgets/base",
      "model_module_version": "1.2.0",
      "model_name": "LayoutModel",
      "state": {}
     },
     "59f00a016a0040d4a813c4388e12b487": {
      "model_module": "@jupyter-widgets/controls",
      "model_module_version": "1.5.0",
      "model_name": "VBoxModel",
      "state": {
       "children": [
        "IPY_MODEL_1baea84137bf4637bc3fbea79f6acdeb",
        "IPY_MODEL_716fc9728a0846b7a1ebf81e13d98847",
        "IPY_MODEL_ed51c1bedc6e48788f2ea9646da55d2e"
       ],
       "layout": "IPY_MODEL_998ee4758ea04a7c8eeae05c028b16a1"
      }
     },
     "5c16bb8a93074d8cabf0f57c8f26891e": {
      "model_module": "@jupyter-widgets/base",
      "model_module_version": "1.2.0",
      "model_name": "LayoutModel",
      "state": {
       "width": "70%"
      }
     },
     "5de6c6b4fd0e4ad6a9361321939c6aa2": {
      "model_module": "@jupyter-widgets/controls",
      "model_module_version": "1.5.0",
      "model_name": "DescriptionStyleModel",
      "state": {
       "description_width": ""
      }
     },
     "5e11e3776c0e45f6bf5df64bcc8e1ef5": {
      "model_module": "@jupyter-widgets/controls",
      "model_module_version": "1.5.0",
      "model_name": "DescriptionStyleModel",
      "state": {
       "description_width": ""
      }
     },
     "6192970fa7c942219af7f479daec0000": {
      "model_module": "@jupyter-widgets/controls",
      "model_module_version": "1.5.0",
      "model_name": "TextModel",
      "state": {
       "description": "Query start time (UTC):",
       "layout": "IPY_MODEL_6dfa465ea6714f87a424a6a83840148b",
       "style": "IPY_MODEL_fadcde10729840b6ae4096574ea45d01",
       "value": "2021-06-28 16:29:28.626383"
      }
     },
     "6308026eb7ae4404a2a11885e10b4ada": {
      "model_module": "@jupyter-widgets/controls",
      "model_module_version": "1.5.0",
      "model_name": "TextModel",
      "state": {
       "description": "Time (24hr)",
       "layout": "IPY_MODEL_37e4578fa5e94e70af679916060c87e9",
       "style": "IPY_MODEL_cdd74d0b45584c8fab3fa9588080bde9",
       "value": "16:29:37.502447"
      }
     },
     "65b465ddb7024f409d93d325ae12445d": {
      "model_module": "@jupyter-widgets/base",
      "model_module_version": "1.2.0",
      "model_name": "LayoutModel",
      "state": {
       "width": "100px"
      }
     },
     "67496c6fd4ee415dbdf38ba503b879f7": {
      "model_module": "@jupyter-widgets/controls",
      "model_module_version": "1.5.0",
      "model_name": "TextModel",
      "state": {
       "description": "Query end time (UTC) :  ",
       "layout": "IPY_MODEL_9247cb3885ad4496b84cfaff5a32586e",
       "style": "IPY_MODEL_f1966705c35549609c3ae60166889df6",
       "value": "2021-06-29 16:29:37.502447"
      }
     },
     "6982ecf61fe74d5190d6381907f809f5": {
      "model_module": "@jupyter-widgets/controls",
      "model_module_version": "1.5.0",
      "model_name": "DropdownModel",
      "state": {
       "_options_labels": [
        "minute",
        "hour",
        "day",
        "week"
       ],
       "index": 2,
       "layout": "IPY_MODEL_65b465ddb7024f409d93d325ae12445d",
       "style": "IPY_MODEL_f0d67d88709946b48ec6ed78b75c1efa"
      }
     },
     "6b7eec6767154b3ea14d8bf08f0415e3": {
      "model_module": "@jupyter-widgets/base",
      "model_module_version": "1.2.0",
      "model_name": "LayoutModel",
      "state": {
       "width": "70%"
      }
     },
     "6c9212b6acde41d2b0620671bd7c0a7d": {
      "model_module": "@jupyter-widgets/controls",
      "model_module_version": "1.5.0",
      "model_name": "VBoxModel",
      "state": {
       "children": [
        "IPY_MODEL_8f245d0018e34c9b99782ceebed0087e",
        "IPY_MODEL_23f016c870964421a7e36c9b8eb4c1a7",
        "IPY_MODEL_29e5ad35095747dab14166d6643d4c3f"
       ],
       "layout": "IPY_MODEL_0b085abbc2ca4083b24f307713383b8e"
      }
     },
     "6cf478d4c1a24fb3af6b868ef8179010": {
      "model_module": "@jupyter-widgets/controls",
      "model_module_version": "1.5.0",
      "model_name": "DatePickerModel",
      "state": {
       "description": "Origin Date",
       "disabled": false,
       "layout": "IPY_MODEL_3fa5d4f949e24a49bbb76cb35fc3792e",
       "style": "IPY_MODEL_5e11e3776c0e45f6bf5df64bcc8e1ef5",
       "value": {
        "date": 29,
        "month": 5,
        "year": 2021
       }
      }
     },
     "6dfa465ea6714f87a424a6a83840148b": {
      "model_module": "@jupyter-widgets/base",
      "model_module_version": "1.2.0",
      "model_name": "LayoutModel",
      "state": {
       "width": "50%"
      }
     },
     "716fc9728a0846b7a1ebf81e13d98847": {
      "model_module": "@jupyter-widgets/controls",
      "model_module_version": "1.5.0",
      "model_name": "HBoxModel",
      "state": {
       "children": [
        "IPY_MODEL_5366fa902be244968e04fb64209a0b56",
        "IPY_MODEL_a75be546ed604666b1e4bc1887f4d418"
       ],
       "layout": "IPY_MODEL_407f4861901e48cb91ac701eadd9ce5c"
      }
     },
     "74ccf75d47a048e3b50aca10236f2e50": {
      "model_module": "@jupyter-widgets/controls",
      "model_module_version": "1.5.0",
      "model_name": "TextModel",
      "state": {
       "description": "Query end time (UTC) :  ",
       "layout": "IPY_MODEL_21812865de9f47529710e26786f476b3",
       "style": "IPY_MODEL_9b070867f93f4501aa20ad6395b2f6cf",
       "value": "2021-06-30 16:29:28.626383"
      }
     },
     "7a8b18ded0434f2cb9380bf6908e02d6": {
      "model_module": "@jupyter-widgets/controls",
      "model_module_version": "1.5.0",
      "model_name": "DescriptionStyleModel",
      "state": {
       "description_width": ""
      }
     },
     "7ab4be6adf84462a8f1c152b48372614": {
      "model_module": "@jupyter-widgets/controls",
      "model_module_version": "1.5.0",
      "model_name": "DescriptionStyleModel",
      "state": {
       "description_width": "initial"
      }
     },
     "84981e8faacb4aecaa08c0ff95554e14": {
      "model_module": "@jupyter-widgets/controls",
      "model_module_version": "1.5.0",
      "model_name": "IntRangeSliderModel",
      "state": {
       "_model_name": "IntRangeSliderModel",
       "_view_name": "IntRangeSliderView",
       "description": "Time Range",
       "layout": "IPY_MODEL_5c16bb8a93074d8cabf0f57c8f26891e",
       "max": 28,
       "min": -28,
       "style": "IPY_MODEL_d8f26b68ce11486db5fad5d2997970a4",
       "value": [
        -1,
        0
       ]
      }
     },
     "8b107d3477cb4e5ca2c70afb6f4c606f": {
      "model_module": "@jupyter-widgets/controls",
      "model_module_version": "1.5.0",
      "model_name": "TextModel",
      "state": {
       "description": "Query start time (UTC):",
       "layout": "IPY_MODEL_bfdf80e5e86e44e89824809f99495fa3",
       "style": "IPY_MODEL_cb9d5c3598714d38a00bb35bea9b7c96",
       "value": "2021-06-28 16:29:37.502447"
      }
     },
     "8c7edb31081e4f37a2f53dfc2bb1430c": {
      "model_module": "@jupyter-widgets/base",
      "model_module_version": "1.2.0",
      "model_name": "LayoutModel",
      "state": {
       "width": "100px"
      }
     },
     "8e26849aaa1d4e0aa184bb12c388cd2d": {
      "model_module": "@jupyter-widgets/base",
      "model_module_version": "1.2.0",
      "model_name": "LayoutModel",
      "state": {}
     },
     "8f245d0018e34c9b99782ceebed0087e": {
      "model_module": "@jupyter-widgets/controls",
      "model_module_version": "1.5.0",
      "model_name": "HTMLModel",
      "state": {
       "layout": "IPY_MODEL_13e6c076d2fd432cb20a0c84916feb24",
       "style": "IPY_MODEL_7a8b18ded0434f2cb9380bf6908e02d6",
       "value": "<h4>Set time range for pivot functions.</h4>"
      }
     },
     "9247cb3885ad4496b84cfaff5a32586e": {
      "model_module": "@jupyter-widgets/base",
      "model_module_version": "1.2.0",
      "model_name": "LayoutModel",
      "state": {
       "width": "50%"
      }
     },
     "92a6d158d57242ba9169a5ba1da12c4e": {
      "model_module": "@jupyter-widgets/controls",
      "model_module_version": "1.5.0",
      "model_name": "HBoxModel",
      "state": {
       "children": [
        "IPY_MODEL_84981e8faacb4aecaa08c0ff95554e14",
        "IPY_MODEL_6982ecf61fe74d5190d6381907f809f5"
       ],
       "layout": "IPY_MODEL_ab8e44a7d17d453fbf69ae61fc3b7713"
      }
     },
     "92de05d3ede9484cbf523c67b54b049f": {
      "model_module": "@jupyter-widgets/base",
      "model_module_version": "1.2.0",
      "model_name": "LayoutModel",
      "state": {}
     },
     "95ec9de61a574f37aca18e8ee90e3eeb": {
      "model_module": "@jupyter-widgets/base",
      "model_module_version": "1.2.0",
      "model_name": "LayoutModel",
      "state": {}
     },
     "998ee4758ea04a7c8eeae05c028b16a1": {
      "model_module": "@jupyter-widgets/base",
      "model_module_version": "1.2.0",
      "model_name": "LayoutModel",
      "state": {}
     },
     "9995eac8479240c79f47056e5e32b0b2": {
      "model_module": "@jupyter-widgets/controls",
      "model_module_version": "1.5.0",
      "model_name": "HBoxModel",
      "state": {
       "children": [
        "IPY_MODEL_dcff18c0b54a4171813d25943cbc2c14",
        "IPY_MODEL_e4ca4a794fe14598b367f601811b5ca4"
       ],
       "layout": "IPY_MODEL_380b2d91f036463cbbcb3aacb1625d99"
      }
     },
     "9b070867f93f4501aa20ad6395b2f6cf": {
      "model_module": "@jupyter-widgets/controls",
      "model_module_version": "1.5.0",
      "model_name": "DescriptionStyleModel",
      "state": {
       "description_width": "initial"
      }
     },
     "a20a97d49768456ea61ff5e81949c8e8": {
      "model_module": "@jupyter-widgets/controls",
      "model_module_version": "1.5.0",
      "model_name": "TextModel",
      "state": {
       "description": "Time (24hr)",
       "layout": "IPY_MODEL_fdcbd1b9c43d436da5bef03d81f6e7e0",
       "style": "IPY_MODEL_160ce26e8eac4a55b8e5befe7fe7939a",
       "value": "16:29:37.607447"
      }
     },
     "a75be546ed604666b1e4bc1887f4d418": {
      "model_module": "@jupyter-widgets/controls",
      "model_module_version": "1.5.0",
      "model_name": "TextModel",
      "state": {
       "description": "Time (24hr)",
       "layout": "IPY_MODEL_92de05d3ede9484cbf523c67b54b049f",
       "style": "IPY_MODEL_36073b2d7ff04fe9b257abcb14721545",
       "value": "16:29:28.626383"
      }
     },
     "a835b8b1f8b94116ba1e260b8d899d53": {
      "model_module": "@jupyter-widgets/base",
      "model_module_version": "1.2.0",
      "model_name": "LayoutModel",
      "state": {
       "width": "70%"
      }
     },
     "aae22e51142f48a585d6188ebbd86ce6": {
      "model_module": "@jupyter-widgets/controls",
      "model_module_version": "1.5.0",
      "model_name": "TextModel",
      "state": {
       "description": "Query start time (UTC):",
       "layout": "IPY_MODEL_51be2fd73b4842a1b50c58d27246a8a6",
       "style": "IPY_MODEL_c97f159ed11c473cb4294b43a749ea2d",
       "value": "2021-06-28 16:29:37.607447"
      }
     },
     "ab8e44a7d17d453fbf69ae61fc3b7713": {
      "model_module": "@jupyter-widgets/base",
      "model_module_version": "1.2.0",
      "model_name": "LayoutModel",
      "state": {}
     },
     "b012c8bbdc704f709ef4c819100b3fb6": {
      "model_module": "@jupyter-widgets/controls",
      "model_module_version": "1.5.0",
      "model_name": "SliderStyleModel",
      "state": {
       "description_width": "initial"
      }
     },
     "bc1028b15e6948889e625c571fbedaf7": {
      "model_module": "@jupyter-widgets/base",
      "model_module_version": "1.2.0",
      "model_name": "LayoutModel",
      "state": {
       "width": "70%"
      }
     },
     "be87ee691b6e44c290d4ce7df49c01a4": {
      "model_module": "@jupyter-widgets/controls",
      "model_module_version": "1.5.0",
      "model_name": "HBoxModel",
      "state": {
       "children": [
        "IPY_MODEL_05250e2a39cb4dd0afd45e9539b1521b",
        "IPY_MODEL_a20a97d49768456ea61ff5e81949c8e8"
       ],
       "layout": "IPY_MODEL_f94329a5b07040588f6d1ff3b64251c8"
      }
     },
     "bfdf80e5e86e44e89824809f99495fa3": {
      "model_module": "@jupyter-widgets/base",
      "model_module_version": "1.2.0",
      "model_name": "LayoutModel",
      "state": {
       "width": "50%"
      }
     },
     "c136aaa07d614c7f8c614fcdb491018c": {
      "model_module": "@jupyter-widgets/base",
      "model_module_version": "1.2.0",
      "model_name": "LayoutModel",
      "state": {}
     },
     "c15889a1a31d46a4a49fcd98cf2bea94": {
      "model_module": "@jupyter-widgets/base",
      "model_module_version": "1.2.0",
      "model_name": "LayoutModel",
      "state": {
       "width": "70%"
      }
     },
     "c6132c94088e471f92f77e07452335af": {
      "model_module": "@jupyter-widgets/base",
      "model_module_version": "1.2.0",
      "model_name": "LayoutModel",
      "state": {
       "width": "70%"
      }
     },
     "c68764b0948a43e3a68ed2773994eb9c": {
      "model_module": "@jupyter-widgets/base",
      "model_module_version": "1.2.0",
      "model_name": "LayoutModel",
      "state": {
       "width": "99%"
      }
     },
     "c77ce1843b14489381ceeafcc3330c38": {
      "model_module": "@jupyter-widgets/controls",
      "model_module_version": "1.5.0",
      "model_name": "DescriptionStyleModel",
      "state": {
       "description_width": ""
      }
     },
     "c97f159ed11c473cb4294b43a749ea2d": {
      "model_module": "@jupyter-widgets/controls",
      "model_module_version": "1.5.0",
      "model_name": "DescriptionStyleModel",
      "state": {
       "description_width": "initial"
      }
     },
     "cb9d5c3598714d38a00bb35bea9b7c96": {
      "model_module": "@jupyter-widgets/controls",
      "model_module_version": "1.5.0",
      "model_name": "DescriptionStyleModel",
      "state": {
       "description_width": "initial"
      }
     },
     "cdd74d0b45584c8fab3fa9588080bde9": {
      "model_module": "@jupyter-widgets/controls",
      "model_module_version": "1.5.0",
      "model_name": "DescriptionStyleModel",
      "state": {
       "description_width": ""
      }
     },
     "d8f26b68ce11486db5fad5d2997970a4": {
      "model_module": "@jupyter-widgets/controls",
      "model_module_version": "1.5.0",
      "model_name": "SliderStyleModel",
      "state": {
       "description_width": "initial"
      }
     },
     "dcff18c0b54a4171813d25943cbc2c14": {
      "model_module": "@jupyter-widgets/controls",
      "model_module_version": "1.5.0",
      "model_name": "IntRangeSliderModel",
      "state": {
       "_model_name": "IntRangeSliderModel",
       "_view_name": "IntRangeSliderView",
       "description": "Time Range",
       "layout": "IPY_MODEL_c15889a1a31d46a4a49fcd98cf2bea94",
       "max": 28,
       "min": -28,
       "style": "IPY_MODEL_b012c8bbdc704f709ef4c819100b3fb6",
       "value": [
        -1,
        1
       ]
      }
     },
     "dd24fb69145740bd87abd53c80e07b62": {
      "model_module": "@jupyter-widgets/controls",
      "model_module_version": "1.5.0",
      "model_name": "DescriptionStyleModel",
      "state": {
       "description_width": ""
      }
     },
     "df78a3c1fb4b47ab8109f4e4fa7f8a4d": {
      "model_module": "@jupyter-widgets/controls",
      "model_module_version": "1.5.0",
      "model_name": "VBoxModel",
      "state": {
       "children": [
        "IPY_MODEL_ee9fc6e3877047debb7953db6568308c",
        "IPY_MODEL_be87ee691b6e44c290d4ce7df49c01a4",
        "IPY_MODEL_0e42a23ad8d449d5a568e16a5727a099"
       ],
       "layout": "IPY_MODEL_4b26a6105f114ce18e3ea6f5ba69ab84"
      }
     },
     "e4ca4a794fe14598b367f601811b5ca4": {
      "model_module": "@jupyter-widgets/controls",
      "model_module_version": "1.5.0",
      "model_name": "DropdownModel",
      "state": {
       "_options_labels": [
        "minute",
        "hour",
        "day",
        "week"
       ],
       "index": 2,
       "layout": "IPY_MODEL_3150ac97093f4f72809f1e9740e8c74c",
       "style": "IPY_MODEL_5de6c6b4fd0e4ad6a9361321939c6aa2"
      }
     },
     "e567028bd34247cc95d3bfc00f9415a8": {
      "model_module": "@jupyter-widgets/controls",
      "model_module_version": "1.5.0",
      "model_name": "HBoxModel",
      "state": {
       "children": [
        "IPY_MODEL_22ea8d6b236740d58c2827627f9bf134",
        "IPY_MODEL_20bac7a254414fdfbd407cc9fb77d14a"
       ],
       "layout": "IPY_MODEL_44a4422d2781426c8a7a25b98d32018d"
      }
     },
     "e9e20e8c5d924c5f93a1d6a4c2d9961e": {
      "model_module": "@jupyter-widgets/controls",
      "model_module_version": "1.5.0",
      "model_name": "DescriptionStyleModel",
      "state": {
       "description_width": ""
      }
     },
     "ed51c1bedc6e48788f2ea9646da55d2e": {
      "model_module": "@jupyter-widgets/controls",
      "model_module_version": "1.5.0",
      "model_name": "VBoxModel",
      "state": {
       "children": [
        "IPY_MODEL_9995eac8479240c79f47056e5e32b0b2",
        "IPY_MODEL_6192970fa7c942219af7f479daec0000",
        "IPY_MODEL_74ccf75d47a048e3b50aca10236f2e50"
       ],
       "layout": "IPY_MODEL_3d8e63de83f945fd96aedf53c8641b05"
      }
     },
     "ee9fc6e3877047debb7953db6568308c": {
      "model_module": "@jupyter-widgets/controls",
      "model_module_version": "1.5.0",
      "model_name": "HTMLModel",
      "state": {
       "layout": "IPY_MODEL_95ec9de61a574f37aca18e8ee90e3eeb",
       "style": "IPY_MODEL_0728f5babefe42099ae5c208bd3e4f4e",
       "value": "<h4>Set query time boundaries</h4>"
      }
     },
     "f0d67d88709946b48ec6ed78b75c1efa": {
      "model_module": "@jupyter-widgets/controls",
      "model_module_version": "1.5.0",
      "model_name": "DescriptionStyleModel",
      "state": {
       "description_width": ""
      }
     },
     "f1966705c35549609c3ae60166889df6": {
      "model_module": "@jupyter-widgets/controls",
      "model_module_version": "1.5.0",
      "model_name": "DescriptionStyleModel",
      "state": {
       "description_width": "initial"
      }
     },
     "f7bbaab77dc54e32bab4bc9a2ba6907b": {
      "model_module": "@jupyter-widgets/base",
      "model_module_version": "1.2.0",
      "model_name": "LayoutModel",
      "state": {
       "width": "50%"
      }
     },
     "f94329a5b07040588f6d1ff3b64251c8": {
      "model_module": "@jupyter-widgets/base",
      "model_module_version": "1.2.0",
      "model_name": "LayoutModel",
      "state": {}
     },
     "fadcde10729840b6ae4096574ea45d01": {
      "model_module": "@jupyter-widgets/controls",
      "model_module_version": "1.5.0",
      "model_name": "DescriptionStyleModel",
      "state": {
       "description_width": "initial"
      }
     },
     "fdcbd1b9c43d436da5bef03d81f6e7e0": {
      "model_module": "@jupyter-widgets/base",
      "model_module_version": "1.2.0",
      "model_name": "LayoutModel",
      "state": {}
     },
     "ff418a6059cc4925b27302ba7d6db9eb": {
      "model_module": "@jupyter-widgets/base",
      "model_module_version": "1.2.0",
      "model_name": "LayoutModel",
      "state": {
       "width": "99%"
      }
     }
    },
    "version_major": 2,
    "version_minor": 0
   }
  }
 },
 "nbformat": 4,
 "nbformat_minor": 4
}
